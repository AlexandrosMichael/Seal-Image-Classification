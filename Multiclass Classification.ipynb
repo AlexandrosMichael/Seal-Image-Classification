{
 "cells": [
  {
   "cell_type": "markdown",
   "metadata": {},
   "source": [
    "# Data Preprocessing"
   ]
  },
  {
   "cell_type": "markdown",
   "metadata": {},
   "source": [
    "### Load the Data\n",
    "The first step we take is to load the binary dataset into the program.\n"
   ]
  },
  {
   "cell_type": "code",
   "execution_count": 75,
   "metadata": {},
   "outputs": [],
   "source": [
    "import pathlib\n",
    "import pandas as pd\n",
    "import numpy as np\n",
    "import argparse\n",
    "from settings import *\n",
    "\n",
    "def load_multi_data():\n",
    "    print('Loading multi-class data...')\n",
    "    X_train_path = pathlib.Path().joinpath(MULTI_DIR, 'X_train.csv')\n",
    "    X_train_df = pd.read_csv(X_train_path, header=None)\n",
    "    X_train_df.info()\n",
    "\n",
    "    y_train_path = pathlib.Path().joinpath(MULTI_DIR, 'Y_train.csv')\n",
    "    y_train_df = pd.read_csv(y_train_path, header=None)\n",
    "    print('Unique values', y_train_df.iloc[:, 0].unique())\n",
    "\n",
    "    X_test_path = pathlib.Path().joinpath(MULTI_DIR, 'X_test.csv')\n",
    "    X_test_df = pd.read_csv(X_test_path, header=None)\n",
    "    X_test_df.info()\n",
    "\n",
    "    data_dict = {\n",
    "        'X_train': X_train_df,\n",
    "        'X_test': X_test_df,\n",
    "        'y_train': y_train_df\n",
    "    }\n",
    "    print('\\n')\n",
    "\n",
    "    return data_dict\n"
   ]
  },
  {
   "cell_type": "code",
   "execution_count": 76,
   "metadata": {},
   "outputs": [
    {
     "name": "stdout",
     "output_type": "stream",
     "text": [
      "Loading multi-class data...\n",
      "<class 'pandas.core.frame.DataFrame'>\n",
      "RangeIndex: 62210 entries, 0 to 62209\n",
      "Columns: 964 entries, 0 to 963\n",
      "dtypes: float64(964)\n",
      "memory usage: 457.5 MB\n",
      "Unique values ['whitecoat' 'moulted pup' 'dead pup' 'juvenile' 'background']\n",
      "<class 'pandas.core.frame.DataFrame'>\n",
      "RangeIndex: 20335 entries, 0 to 20334\n",
      "Columns: 964 entries, 0 to 963\n",
      "dtypes: float64(964)\n",
      "memory usage: 149.6 MB\n",
      "\n",
      "\n"
     ]
    }
   ],
   "source": [
    "data_dict = load_multi_data()"
   ]
  },
  {
   "cell_type": "markdown",
   "metadata": {},
   "source": [
    "### Clean The Data\n",
    "We clean the data by removing the features taken from a random normal distribution.\n"
   ]
  },
  {
   "cell_type": "code",
   "execution_count": 77,
   "metadata": {},
   "outputs": [],
   "source": [
    "def clean_data(data_dict):\n",
    "    print('Cleaning data...')\n",
    "    X_train_df = data_dict['X_train']\n",
    "    X_test_df = data_dict['X_test']\n",
    "    y_train_df = data_dict['y_train']\n",
    "\n",
    "    X_train_df = X_train_df.drop(X_train_df.columns[900:916], axis=1)  # df.columns is zero-based pd.Index\n",
    "    X_test_df = X_test_df.drop(X_test_df.columns[900:916], axis=1)  # df.columns is zero-based pd.Index\n",
    "\n",
    "    print('X train after cleaning:')\n",
    "    X_train_df.info()\n",
    "    print('X_test after cleaning')\n",
    "    X_test_df.info()\n",
    "    data_dict = {\n",
    "        'X_train': X_train_df,\n",
    "        'X_test': X_test_df,\n",
    "        'y_train': y_train_df\n",
    "    }\n",
    "    print('\\n')\n",
    "    return data_dict"
   ]
  },
  {
   "cell_type": "code",
   "execution_count": 78,
   "metadata": {},
   "outputs": [
    {
     "name": "stdout",
     "output_type": "stream",
     "text": [
      "Cleaning data...\n",
      "X train after cleaning:\n",
      "<class 'pandas.core.frame.DataFrame'>\n",
      "RangeIndex: 62210 entries, 0 to 62209\n",
      "Columns: 948 entries, 0 to 963\n",
      "dtypes: float64(948)\n",
      "memory usage: 449.9 MB\n",
      "X_test after cleaning\n",
      "<class 'pandas.core.frame.DataFrame'>\n",
      "RangeIndex: 20335 entries, 0 to 20334\n",
      "Columns: 948 entries, 0 to 963\n",
      "dtypes: float64(948)\n",
      "memory usage: 147.1 MB\n",
      "\n",
      "\n"
     ]
    }
   ],
   "source": [
    "data_dict = clean_data(data_dict)"
   ]
  },
  {
   "cell_type": "markdown",
   "metadata": {},
   "source": [
    "### Visualise Data\n",
    "We visualise the target frequencies to see whether the dataset is imbalanced."
   ]
  },
  {
   "cell_type": "code",
   "execution_count": 5,
   "metadata": {},
   "outputs": [],
   "source": [
    "import seaborn as sns\n",
    "import matplotlib.pyplot as plt\n",
    "\n",
    "\n",
    "def plot_hog_distribution(data_dict):\n",
    "    pass\n",
    "\n",
    "\n",
    "def plot_target_frequency(data_dict):\n",
    "    y_train = data_dict['y_train']\n",
    "    y_train.columns = ['label']\n",
    "    print(y_train.columns)\n",
    "    total = float(len(y_train))\n",
    "    print('total', total)\n",
    "    plot = sns.countplot(x='label', data=y_train)\n",
    "    for p in plot.patches:\n",
    "        height = p.get_height()\n",
    "        plot.text(p.get_x() + p.get_width() / 2.,\n",
    "                height + 3,\n",
    "                '{:1.3f}'.format(height / total),\n",
    "                ha=\"center\")\n",
    "    plt.show()"
   ]
  },
  {
   "cell_type": "code",
   "execution_count": 6,
   "metadata": {},
   "outputs": [
    {
     "name": "stdout",
     "output_type": "stream",
     "text": [
      "Index(['label'], dtype='object')\n",
      "total 62210.0\n"
     ]
    },
    {
     "data": {
      "image/png": "[encoded data removed]",
      "text/plain": [
       "<Figure size 432x288 with 1 Axes>"
      ]
     },
     "metadata": {
      "needs_background": "light"
     },
     "output_type": "display_data"
    }
   ],
   "source": [
    "plot_target_frequency(data_dict)"
   ]
  },
  {
   "cell_type": "markdown",
   "metadata": {},
   "source": [
    "### Split training dataset to have a mock test set\n",
    "We split the dataset in order to obtain a mock test set, since we don't have the target labes that correspond to the data in the X_test.csv file."
   ]
  },
  {
   "cell_type": "code",
   "execution_count": 7,
   "metadata": {},
   "outputs": [],
   "source": [
    "from sklearn.model_selection import train_test_split"
   ]
  },
  {
   "cell_type": "code",
   "execution_count": 8,
   "metadata": {},
   "outputs": [],
   "source": [
    "X_train, X_val, y_train, y_val = train_test_split(data_dict['X_train'], data_dict['y_train'], test_size=0.2, random_state=23, shuffle=True, stratify=data_dict['y_train'])"
   ]
  },
  {
   "cell_type": "markdown",
   "metadata": {},
   "source": [
    "### Obtain undersampled dataset\n",
    "Undersample the data that  will be used for  training. We do not undersample the mock testing set as we want to keep the distribution of the classes close to the distribution of the original dataset."
   ]
  },
  {
   "cell_type": "code",
   "execution_count": 9,
   "metadata": {},
   "outputs": [],
   "source": [
    "from imblearn.under_sampling import RandomUnderSampler"
   ]
  },
  {
   "cell_type": "code",
   "execution_count": 10,
   "metadata": {},
   "outputs": [],
   "source": [
    "rus = RandomUnderSampler(random_state=0)"
   ]
  },
  {
   "cell_type": "code",
   "execution_count": 11,
   "metadata": {},
   "outputs": [],
   "source": [
    "X_train_under, y_train_under = rus.fit_resample(X_train, y_train)"
   ]
  },
  {
   "cell_type": "code",
   "execution_count": 12,
   "metadata": {},
   "outputs": [
    {
     "name": "stdout",
     "output_type": "stream",
     "text": [
      "Index(['label'], dtype='object')\n",
      "total 990.0\n"
     ]
    },
    {
     "data": {
      "image/png": "[encoded data removed]",
      "text/plain": [
       "<Figure size 432x288 with 1 Axes>"
      ]
     },
     "metadata": {
      "needs_background": "light"
     },
     "output_type": "display_data"
    }
   ],
   "source": [
    "data_dict_under = {\n",
    "    'y_train': y_train_under\n",
    "}\n",
    "plot_target_frequency(data_dict_under)\n"
   ]
  },
  {
   "cell_type": "markdown",
   "metadata": {},
   "source": [
    "### Prepare Inputs \n",
    "\n",
    "We convert the dataframes into numpy ndarrays."
   ]
  },
  {
   "cell_type": "code",
   "execution_count": 13,
   "metadata": {},
   "outputs": [],
   "source": [
    "X_train = X_train.to_numpy()\n",
    "X_val = X_val.to_numpy()\n",
    "y_train = y_train.to_numpy().ravel()\n",
    "y_val = y_val.to_numpy().ravel()"
   ]
  },
  {
   "cell_type": "code",
   "execution_count": 14,
   "metadata": {},
   "outputs": [],
   "source": [
    "X_train_under = X_train_under.to_numpy()\n",
    "y_train_under = y_train_under.to_numpy().ravel()"
   ]
  },
  {
   "cell_type": "markdown",
   "metadata": {},
   "source": [
    "# Machine  Learning"
   ]
  },
  {
   "cell_type": "markdown",
   "metadata": {},
   "source": [
    "### Create Scorer\n",
    "\n",
    "We define the scoring metrics to be used during cross-validation."
   ]
  },
  {
   "cell_type": "code",
   "execution_count": 15,
   "metadata": {},
   "outputs": [],
   "source": [
    "scorer = ['balanced_accuracy', 'accuracy']"
   ]
  },
  {
   "cell_type": "markdown",
   "metadata": {},
   "source": [
    "### Training KNN\n",
    "Here we define our estimator as well as the grid search. The estimator is a pipeline in which the features are scaled, PCA is perfromed and a KNN classifier is trained. "
   ]
  },
  {
   "cell_type": "code",
   "execution_count": 16,
   "metadata": {},
   "outputs": [],
   "source": [
    "import time\n",
    "from sklearn.neighbors import KNeighborsClassifier\n",
    "from sklearn.pipeline import Pipeline\n",
    "from sklearn.preprocessing import StandardScaler\n",
    "from sklearn.decomposition import PCA\n",
    "from sklearn.model_selection import KFold, GridSearchCV"
   ]
  },
  {
   "cell_type": "code",
   "execution_count": 17,
   "metadata": {},
   "outputs": [],
   "source": [
    "def kn_cross_validate_pca(X_train, y_train, scorer):\n",
    "    kf = KFold(n_splits=5, shuffle=True, random_state=42)\n",
    "    pipeline = Pipeline(\n",
    "        [('sc', StandardScaler()), ('pca', PCA(n_components=0.99, svd_solver='full')), ('cf', KNeighborsClassifier())])\n",
    "\n",
    "    params = {\n",
    "        'cf__n_neighbors': [3],\n",
    "        'cf__leaf_size': [30],\n",
    "        'cf__p': [2] \n",
    "    }\n",
    "    \n",
    "    print('Grid: ', params)\n",
    "    \n",
    "    print('Scorer: ', scorer)\n",
    "    \n",
    "    cf = GridSearchCV(pipeline, params, cv=kf, n_jobs=-1, scoring=scorer, refit=scorer[0])\n",
    "\n",
    "    start = time.time()\n",
    "    cf.fit(X_train, y_train)\n",
    "    end = time.time()\n",
    "    print('K-nearest neighbors cross-val time elapsed: ', end - start)\n",
    "\n",
    "    print('Best params: ', cf.best_params_)    \n",
    "\n",
    "    print('PCA number of components', cf.best_estimator_.named_steps['pca'].n_components_)\n",
    "\n",
    "    balanced_acc_score = cf.best_score_ * 100\n",
    "    \n",
    "    acc_score =  cf.cv_results_['mean_test_accuracy'][cf.best_index_] * 100\n",
    "\n",
    "    print(\"Best cross-val balanced accuracy score: \" + str(round(balanced_acc_score, 2)) + '%')\n",
    "    print(\"Best cross-val accuracy score: \" + str(round(acc_score, 2)) + '%')\n",
    "    \n",
    "    cv_results = pd.DataFrame(cf.cv_results_)\n",
    "    display(cv_results)\n",
    "\n",
    "    print('\\n')\n",
    "    return cf.best_estimator_"
   ]
  },
  {
   "cell_type": "code",
   "execution_count": 18,
   "metadata": {},
   "outputs": [
    {
     "name": "stdout",
     "output_type": "stream",
     "text": [
      "Grid:  {'cf__n_neighbors': [3], 'cf__leaf_size': [30], 'cf__p': [2]}\n",
      "Scorer:  ['balanced_accuracy', 'accuracy']\n",
      "K-nearest neighbors cross-val time elapsed:  931.95334815979\n",
      "Best params:  {'cf__leaf_size': 30, 'cf__n_neighbors': 3, 'cf__p': 2}\n",
      "PCA number of components 473\n",
      "Best cross-val balanced accuracy score: 32.97%\n",
      "Best cross-val accuracy score: 91.79%\n"
     ]
    },
    {
     "data": {
      "text/html": [
       "<div>\n",
       "<style scoped>\n",
       "    .dataframe tbody tr th:only-of-type {\n",
       "        vertical-align: middle;\n",
       "    }\n",
       "\n",
       "    .dataframe tbody tr th {\n",
       "        vertical-align: top;\n",
       "    }\n",
       "\n",
       "    .dataframe thead th {\n",
       "        text-align: right;\n",
       "    }\n",
       "</style>\n",
       "<table border=\"1\" class=\"dataframe\">\n",
       "  <thead>\n",
       "    <tr style=\"text-align: right;\">\n",
       "      <th></th>\n",
       "      <th>mean_fit_time</th>\n",
       "      <th>std_fit_time</th>\n",
       "      <th>mean_score_time</th>\n",
       "      <th>std_score_time</th>\n",
       "      <th>param_cf__leaf_size</th>\n",
       "      <th>param_cf__n_neighbors</th>\n",
       "      <th>param_cf__p</th>\n",
       "      <th>params</th>\n",
       "      <th>split0_test_balanced_accuracy</th>\n",
       "      <th>split1_test_balanced_accuracy</th>\n",
       "      <th>...</th>\n",
       "      <th>std_test_balanced_accuracy</th>\n",
       "      <th>rank_test_balanced_accuracy</th>\n",
       "      <th>split0_test_accuracy</th>\n",
       "      <th>split1_test_accuracy</th>\n",
       "      <th>split2_test_accuracy</th>\n",
       "      <th>split3_test_accuracy</th>\n",
       "      <th>split4_test_accuracy</th>\n",
       "      <th>mean_test_accuracy</th>\n",
       "      <th>std_test_accuracy</th>\n",
       "      <th>rank_test_accuracy</th>\n",
       "    </tr>\n",
       "  </thead>\n",
       "  <tbody>\n",
       "    <tr>\n",
       "      <th>0</th>\n",
       "      <td>58.317384</td>\n",
       "      <td>20.501867</td>\n",
       "      <td>470.081813</td>\n",
       "      <td>74.525644</td>\n",
       "      <td>30</td>\n",
       "      <td>3</td>\n",
       "      <td>2</td>\n",
       "      <td>{'cf__leaf_size': 30, 'cf__n_neighbors': 3, 'c...</td>\n",
       "      <td>0.336869</td>\n",
       "      <td>0.330537</td>\n",
       "      <td>...</td>\n",
       "      <td>0.007215</td>\n",
       "      <td>1</td>\n",
       "      <td>0.91732</td>\n",
       "      <td>0.921137</td>\n",
       "      <td>0.918626</td>\n",
       "      <td>0.914599</td>\n",
       "      <td>0.917613</td>\n",
       "      <td>0.917859</td>\n",
       "      <td>0.002113</td>\n",
       "      <td>1</td>\n",
       "    </tr>\n",
       "  </tbody>\n",
       "</table>\n",
       "<p>1 rows × 24 columns</p>\n",
       "</div>"
      ],
      "text/plain": [
       "   mean_fit_time  std_fit_time  mean_score_time  std_score_time  \\\n",
       "0      58.317384     20.501867       470.081813       74.525644   \n",
       "\n",
       "  param_cf__leaf_size param_cf__n_neighbors param_cf__p  \\\n",
       "0                  30                     3           2   \n",
       "\n",
       "                                              params  \\\n",
       "0  {'cf__leaf_size': 30, 'cf__n_neighbors': 3, 'c...   \n",
       "\n",
       "   split0_test_balanced_accuracy  split1_test_balanced_accuracy  ...  \\\n",
       "0                       0.336869                       0.330537  ...   \n",
       "\n",
       "   std_test_balanced_accuracy  rank_test_balanced_accuracy  \\\n",
       "0                    0.007215                            1   \n",
       "\n",
       "   split0_test_accuracy  split1_test_accuracy  split2_test_accuracy  \\\n",
       "0               0.91732              0.921137              0.918626   \n",
       "\n",
       "   split3_test_accuracy  split4_test_accuracy  mean_test_accuracy  \\\n",
       "0              0.914599              0.917613            0.917859   \n",
       "\n",
       "   std_test_accuracy  rank_test_accuracy  \n",
       "0           0.002113                   1  \n",
       "\n",
       "[1 rows x 24 columns]"
      ]
     },
     "metadata": {},
     "output_type": "display_data"
    },
    {
     "name": "stdout",
     "output_type": "stream",
     "text": [
      "\n",
      "\n"
     ]
    }
   ],
   "source": [
    "knn_cf = kn_cross_validate_pca(X_train, y_train, scorer)"
   ]
  },
  {
   "cell_type": "markdown",
   "metadata": {},
   "source": [
    "### Making predictions on the validation set with KNN\n",
    "\n",
    "Make predictions on the validation set and evaluate the classifier's performance.\n"
   ]
  },
  {
   "cell_type": "code",
   "execution_count": 19,
   "metadata": {},
   "outputs": [],
   "source": [
    "y_pred = knn_cf.predict(X_val)"
   ]
  },
  {
   "cell_type": "markdown",
   "metadata": {},
   "source": [
    "### Confusion matrix for KNN\n",
    "The confusion matrix will tell us how each class was misclassified. "
   ]
  },
  {
   "cell_type": "code",
   "execution_count": 20,
   "metadata": {},
   "outputs": [],
   "source": [
    "from sklearn.metrics import confusion_matrix"
   ]
  },
  {
   "cell_type": "code",
   "execution_count": 21,
   "metadata": {},
   "outputs": [],
   "source": [
    "cf = confusion_matrix(y_val, y_pred)"
   ]
  },
  {
   "cell_type": "code",
   "execution_count": 22,
   "metadata": {},
   "outputs": [],
   "source": [
    "import seaborn as sns\n",
    "import numpy as np"
   ]
  },
  {
   "cell_type": "code",
   "execution_count": 23,
   "metadata": {},
   "outputs": [
    {
     "data": {
      "text/plain": [
       "<matplotlib.axes._subplots.AxesSubplot at 0x11e9977d0>"
      ]
     },
     "execution_count": 23,
     "metadata": {},
     "output_type": "execute_result"
    },
    {
     "data": {
      "image/png": "[encoded data removed]",
      "text/plain": [
       "<Figure size 432x288 with 2 Axes>"
      ]
     },
     "metadata": {
      "needs_background": "light"
     },
     "output_type": "display_data"
    }
   ],
   "source": [
    "sns.heatmap(cf/np.sum(cf), annot=True, fmt='.2%', cmap='Blues')"
   ]
  },
  {
   "cell_type": "markdown",
   "metadata": {},
   "source": [
    "### Classification report for KNN\n",
    "The classification report will give us detailed evaluation metrics."
   ]
  },
  {
   "cell_type": "code",
   "execution_count": 24,
   "metadata": {},
   "outputs": [],
   "source": [
    "from sklearn.metrics import classification_report"
   ]
  },
  {
   "cell_type": "code",
   "execution_count": 25,
   "metadata": {},
   "outputs": [],
   "source": [
    "cr = classification_report(y_val, y_pred)"
   ]
  },
  {
   "cell_type": "code",
   "execution_count": 26,
   "metadata": {},
   "outputs": [
    {
     "name": "stdout",
     "output_type": "stream",
     "text": [
      "              precision    recall  f1-score   support\n",
      "\n",
      "  background       0.94      1.00      0.97     10887\n",
      "    dead pup       0.21      0.07      0.11        55\n",
      "    juvenile       0.67      0.04      0.08        50\n",
      " moulted pup       0.37      0.16      0.22       454\n",
      "   whitecoat       0.80      0.48      0.60       996\n",
      "\n",
      "    accuracy                           0.92     12442\n",
      "   macro avg       0.60      0.35      0.40     12442\n",
      "weighted avg       0.90      0.92      0.90     12442\n",
      "\n"
     ]
    }
   ],
   "source": [
    "print(cr)"
   ]
  },
  {
   "cell_type": "code",
   "execution_count": 27,
   "metadata": {},
   "outputs": [
    {
     "name": "stdout",
     "output_type": "stream",
     "text": [
      "Balanced accuracy:  0.3505226457938205\n"
     ]
    }
   ],
   "source": [
    "from sklearn.metrics import balanced_accuracy_score\n",
    "\n",
    "print('Balanced accuracy: ', balanced_accuracy_score(y_val, y_pred))"
   ]
  },
  {
   "cell_type": "markdown",
   "metadata": {},
   "source": [
    "### Train KNN with undersampled dataset\n",
    "Here, we train the KNN classifier using the undersampled dataset.\n"
   ]
  },
  {
   "cell_type": "code",
   "execution_count": 28,
   "metadata": {},
   "outputs": [
    {
     "name": "stdout",
     "output_type": "stream",
     "text": [
      "Grid:  {'cf__n_neighbors': [3], 'cf__leaf_size': [30], 'cf__p': [2]}\n",
      "Scorer:  ['balanced_accuracy', 'accuracy']\n",
      "K-nearest neighbors cross-val time elapsed:  4.501712083816528\n",
      "Best params:  {'cf__leaf_size': 30, 'cf__n_neighbors': 3, 'cf__p': 2}\n",
      "PCA number of components 383\n",
      "Best cross-val balanced accuracy score: 40.21%\n",
      "Best cross-val accuracy score: 39.9%\n"
     ]
    },
    {
     "data": {
      "text/html": [
       "<div>\n",
       "<style scoped>\n",
       "    .dataframe tbody tr th:only-of-type {\n",
       "        vertical-align: middle;\n",
       "    }\n",
       "\n",
       "    .dataframe tbody tr th {\n",
       "        vertical-align: top;\n",
       "    }\n",
       "\n",
       "    .dataframe thead th {\n",
       "        text-align: right;\n",
       "    }\n",
       "</style>\n",
       "<table border=\"1\" class=\"dataframe\">\n",
       "  <thead>\n",
       "    <tr style=\"text-align: right;\">\n",
       "      <th></th>\n",
       "      <th>mean_fit_time</th>\n",
       "      <th>std_fit_time</th>\n",
       "      <th>mean_score_time</th>\n",
       "      <th>std_score_time</th>\n",
       "      <th>param_cf__leaf_size</th>\n",
       "      <th>param_cf__n_neighbors</th>\n",
       "      <th>param_cf__p</th>\n",
       "      <th>params</th>\n",
       "      <th>split0_test_balanced_accuracy</th>\n",
       "      <th>split1_test_balanced_accuracy</th>\n",
       "      <th>...</th>\n",
       "      <th>std_test_balanced_accuracy</th>\n",
       "      <th>rank_test_balanced_accuracy</th>\n",
       "      <th>split0_test_accuracy</th>\n",
       "      <th>split1_test_accuracy</th>\n",
       "      <th>split2_test_accuracy</th>\n",
       "      <th>split3_test_accuracy</th>\n",
       "      <th>split4_test_accuracy</th>\n",
       "      <th>mean_test_accuracy</th>\n",
       "      <th>std_test_accuracy</th>\n",
       "      <th>rank_test_accuracy</th>\n",
       "    </tr>\n",
       "  </thead>\n",
       "  <tbody>\n",
       "    <tr>\n",
       "      <th>0</th>\n",
       "      <td>1.46748</td>\n",
       "      <td>0.4853</td>\n",
       "      <td>0.158707</td>\n",
       "      <td>0.030997</td>\n",
       "      <td>30</td>\n",
       "      <td>3</td>\n",
       "      <td>2</td>\n",
       "      <td>{'cf__leaf_size': 30, 'cf__n_neighbors': 3, 'c...</td>\n",
       "      <td>0.408938</td>\n",
       "      <td>0.458958</td>\n",
       "      <td>...</td>\n",
       "      <td>0.035765</td>\n",
       "      <td>1</td>\n",
       "      <td>0.388889</td>\n",
       "      <td>0.474747</td>\n",
       "      <td>0.434343</td>\n",
       "      <td>0.333333</td>\n",
       "      <td>0.363636</td>\n",
       "      <td>0.39899</td>\n",
       "      <td>0.050303</td>\n",
       "      <td>1</td>\n",
       "    </tr>\n",
       "  </tbody>\n",
       "</table>\n",
       "<p>1 rows × 24 columns</p>\n",
       "</div>"
      ],
      "text/plain": [
       "   mean_fit_time  std_fit_time  mean_score_time  std_score_time  \\\n",
       "0        1.46748        0.4853         0.158707        0.030997   \n",
       "\n",
       "  param_cf__leaf_size param_cf__n_neighbors param_cf__p  \\\n",
       "0                  30                     3           2   \n",
       "\n",
       "                                              params  \\\n",
       "0  {'cf__leaf_size': 30, 'cf__n_neighbors': 3, 'c...   \n",
       "\n",
       "   split0_test_balanced_accuracy  split1_test_balanced_accuracy  ...  \\\n",
       "0                       0.408938                       0.458958  ...   \n",
       "\n",
       "   std_test_balanced_accuracy  rank_test_balanced_accuracy  \\\n",
       "0                    0.035765                            1   \n",
       "\n",
       "   split0_test_accuracy  split1_test_accuracy  split2_test_accuracy  \\\n",
       "0              0.388889              0.474747              0.434343   \n",
       "\n",
       "   split3_test_accuracy  split4_test_accuracy  mean_test_accuracy  \\\n",
       "0              0.333333              0.363636             0.39899   \n",
       "\n",
       "   std_test_accuracy  rank_test_accuracy  \n",
       "0           0.050303                   1  \n",
       "\n",
       "[1 rows x 24 columns]"
      ]
     },
     "metadata": {},
     "output_type": "display_data"
    },
    {
     "name": "stdout",
     "output_type": "stream",
     "text": [
      "\n",
      "\n"
     ]
    }
   ],
   "source": [
    "knn_cf_under = kn_cross_validate_pca(X_train_under, y_train_under, scorer)"
   ]
  },
  {
   "cell_type": "markdown",
   "metadata": {},
   "source": [
    "### Making predictions on evaluation set with KNN trained on the undersampled dataset\n",
    "We use the KNN classifier trained using the undersampled dataset to make predictions on the validation set to allow  us to evaluate its performance."
   ]
  },
  {
   "cell_type": "code",
   "execution_count": 29,
   "metadata": {},
   "outputs": [],
   "source": [
    "y_pred_under = knn_cf_under.predict(X_val)"
   ]
  },
  {
   "cell_type": "markdown",
   "metadata": {},
   "source": [
    "### Confusion matrix for KNN trained on the  undersampled dataset\n",
    "The confusion matrix will tell us how each class was misclassified. \n"
   ]
  },
  {
   "cell_type": "code",
   "execution_count": 30,
   "metadata": {},
   "outputs": [],
   "source": [
    "cf_under = confusion_matrix(y_val, y_pred_under)"
   ]
  },
  {
   "cell_type": "code",
   "execution_count": 31,
   "metadata": {},
   "outputs": [
    {
     "data": {
      "text/plain": [
       "<matplotlib.axes._subplots.AxesSubplot at 0x11ea23510>"
      ]
     },
     "execution_count": 31,
     "metadata": {},
     "output_type": "execute_result"
    },
    {
     "data": {
      "image/png": "[encoded data removed]",
      "text/plain": [
       "<Figure size 432x288 with 2 Axes>"
      ]
     },
     "metadata": {
      "needs_background": "light"
     },
     "output_type": "display_data"
    }
   ],
   "source": [
    "# sns.heatmap(cf_under, annot=True, fmt='g', cmap='Blues')\n",
    "sns.heatmap(cf_under/np.sum(cf_under), annot=True, fmt='.2%', cmap='Blues')"
   ]
  },
  {
   "cell_type": "markdown",
   "metadata": {},
   "source": [
    "### Classification report for KNN trained on the undersampled dataset\n",
    "The classification report will give us detailed evaluation metrics."
   ]
  },
  {
   "cell_type": "code",
   "execution_count": 32,
   "metadata": {},
   "outputs": [],
   "source": [
    "cr_under = classification_report(y_val, y_pred_under)"
   ]
  },
  {
   "cell_type": "code",
   "execution_count": 33,
   "metadata": {},
   "outputs": [
    {
     "name": "stdout",
     "output_type": "stream",
     "text": [
      "              precision    recall  f1-score   support\n",
      "\n",
      "  background       0.95      0.96      0.95     10887\n",
      "    dead pup       0.04      0.44      0.08        55\n",
      "    juvenile       0.23      0.22      0.22        50\n",
      " moulted pup       0.25      0.27      0.26       454\n",
      "   whitecoat       0.78      0.25      0.38       996\n",
      "\n",
      "    accuracy                           0.87     12442\n",
      "   macro avg       0.45      0.43      0.38     12442\n",
      "weighted avg       0.90      0.87      0.88     12442\n",
      "\n"
     ]
    }
   ],
   "source": [
    "print(cr_under)"
   ]
  },
  {
   "cell_type": "markdown",
   "metadata": {},
   "source": [
    "### Training Random Forest Classifier\n",
    "Here we define our estimator as well as the grid search. The estimator is a pipeline in which the features are scaled, PCA is perfromed and a RandomForest classifier is trained. \n"
   ]
  },
  {
   "cell_type": "code",
   "execution_count": 34,
   "metadata": {},
   "outputs": [],
   "source": [
    "from sklearn.ensemble import RandomForestClassifier"
   ]
  },
  {
   "cell_type": "code",
   "execution_count": 35,
   "metadata": {},
   "outputs": [],
   "source": [
    "def rf_cross_validate_pca(X_train, y_train, scorer):\n",
    "    kf = KFold(n_splits=5, shuffle=True, random_state=42)\n",
    "    pipeline = Pipeline(\n",
    "        [('sc', StandardScaler()), ('pca', PCA(n_components=0.99, svd_solver='full')), ('cf', RandomForestClassifier())])\n",
    "\n",
    "    params = {\n",
    "        'cf__n_estimators': [400],\n",
    "        'cf__max_depth': [None],\n",
    "        'cf__min_samples_split': [2],\n",
    "    }\n",
    "    \n",
    "    print('Grid: ', params)\n",
    "    \n",
    "    print('Scorer: ', scorer)\n",
    "    \n",
    "    cf = GridSearchCV(pipeline, params, cv=kf, n_jobs=-1, scoring=scorer, refit=scorer[0])\n",
    "\n",
    "    start = time.time()\n",
    "    cf.fit(X_train, y_train)\n",
    "    end = time.time()\n",
    "    print('Random Forest cross-val time elapsed: ', end - start)\n",
    "\n",
    "    print('Best params: ', cf.best_params_)    \n",
    "\n",
    "    print('PCA number of components', cf.best_estimator_.named_steps['pca'].n_components_)\n",
    "\n",
    "    balanced_acc_score = cf.best_score_ * 100\n",
    "    \n",
    "    acc_score =  cf.cv_results_['mean_test_accuracy'][cf.best_index_] * 100\n",
    "\n",
    "    print(\"Best cross-val balanced accuracy score: \" + str(round(balanced_acc_score, 2)) + '%')\n",
    "    print(\"Best cross-val accuracy score: \" + str(round(acc_score, 2)) + '%')\n",
    "    \n",
    "    cv_results = pd.DataFrame(cf.cv_results_)\n",
    "    display(cv_results)\n",
    "\n",
    "    print('\\n')\n",
    "    return cf.best_estimator_"
   ]
  },
  {
   "cell_type": "code",
   "execution_count": 36,
   "metadata": {},
   "outputs": [
    {
     "name": "stdout",
     "output_type": "stream",
     "text": [
      "Grid:  {'cf__n_estimators': [400], 'cf__max_depth': [None], 'cf__min_samples_split': [2]}\n",
      "Scorer:  ['balanced_accuracy', 'accuracy']\n",
      "Random Forest cross-val time elapsed:  4503.3635902404785\n",
      "Best params:  {'cf__max_depth': None, 'cf__min_samples_split': 2, 'cf__n_estimators': 400}\n",
      "PCA number of components 473\n",
      "Best cross-val balanced accuracy score: 28.85%\n",
      "Best cross-val accuracy score: 91.01%\n"
     ]
    },
    {
     "data": {
      "text/html": [
       "<div>\n",
       "<style scoped>\n",
       "    .dataframe tbody tr th:only-of-type {\n",
       "        vertical-align: middle;\n",
       "    }\n",
       "\n",
       "    .dataframe tbody tr th {\n",
       "        vertical-align: top;\n",
       "    }\n",
       "\n",
       "    .dataframe thead th {\n",
       "        text-align: right;\n",
       "    }\n",
       "</style>\n",
       "<table border=\"1\" class=\"dataframe\">\n",
       "  <thead>\n",
       "    <tr style=\"text-align: right;\">\n",
       "      <th></th>\n",
       "      <th>mean_fit_time</th>\n",
       "      <th>std_fit_time</th>\n",
       "      <th>mean_score_time</th>\n",
       "      <th>std_score_time</th>\n",
       "      <th>param_cf__max_depth</th>\n",
       "      <th>param_cf__min_samples_split</th>\n",
       "      <th>param_cf__n_estimators</th>\n",
       "      <th>params</th>\n",
       "      <th>split0_test_balanced_accuracy</th>\n",
       "      <th>split1_test_balanced_accuracy</th>\n",
       "      <th>...</th>\n",
       "      <th>std_test_balanced_accuracy</th>\n",
       "      <th>rank_test_balanced_accuracy</th>\n",
       "      <th>split0_test_accuracy</th>\n",
       "      <th>split1_test_accuracy</th>\n",
       "      <th>split2_test_accuracy</th>\n",
       "      <th>split3_test_accuracy</th>\n",
       "      <th>split4_test_accuracy</th>\n",
       "      <th>mean_test_accuracy</th>\n",
       "      <th>std_test_accuracy</th>\n",
       "      <th>rank_test_accuracy</th>\n",
       "    </tr>\n",
       "  </thead>\n",
       "  <tbody>\n",
       "    <tr>\n",
       "      <th>0</th>\n",
       "      <td>1701.551985</td>\n",
       "      <td>271.003517</td>\n",
       "      <td>2.80028</td>\n",
       "      <td>0.651569</td>\n",
       "      <td>None</td>\n",
       "      <td>2</td>\n",
       "      <td>400</td>\n",
       "      <td>{'cf__max_depth': None, 'cf__min_samples_split...</td>\n",
       "      <td>0.288162</td>\n",
       "      <td>0.296451</td>\n",
       "      <td>...</td>\n",
       "      <td>0.004614</td>\n",
       "      <td>1</td>\n",
       "      <td>0.908579</td>\n",
       "      <td>0.916114</td>\n",
       "      <td>0.914406</td>\n",
       "      <td>0.906762</td>\n",
       "      <td>0.904752</td>\n",
       "      <td>0.910123</td>\n",
       "      <td>0.004399</td>\n",
       "      <td>1</td>\n",
       "    </tr>\n",
       "  </tbody>\n",
       "</table>\n",
       "<p>1 rows × 24 columns</p>\n",
       "</div>"
      ],
      "text/plain": [
       "   mean_fit_time  std_fit_time  mean_score_time  std_score_time  \\\n",
       "0    1701.551985    271.003517          2.80028        0.651569   \n",
       "\n",
       "  param_cf__max_depth param_cf__min_samples_split param_cf__n_estimators  \\\n",
       "0                None                           2                    400   \n",
       "\n",
       "                                              params  \\\n",
       "0  {'cf__max_depth': None, 'cf__min_samples_split...   \n",
       "\n",
       "   split0_test_balanced_accuracy  split1_test_balanced_accuracy  ...  \\\n",
       "0                       0.288162                       0.296451  ...   \n",
       "\n",
       "   std_test_balanced_accuracy  rank_test_balanced_accuracy  \\\n",
       "0                    0.004614                            1   \n",
       "\n",
       "   split0_test_accuracy  split1_test_accuracy  split2_test_accuracy  \\\n",
       "0              0.908579              0.916114              0.914406   \n",
       "\n",
       "   split3_test_accuracy  split4_test_accuracy  mean_test_accuracy  \\\n",
       "0              0.906762              0.904752            0.910123   \n",
       "\n",
       "   std_test_accuracy  rank_test_accuracy  \n",
       "0           0.004399                   1  \n",
       "\n",
       "[1 rows x 24 columns]"
      ]
     },
     "metadata": {},
     "output_type": "display_data"
    },
    {
     "name": "stdout",
     "output_type": "stream",
     "text": [
      "\n",
      "\n"
     ]
    }
   ],
   "source": [
    "rf_cf = rf_cross_validate_pca(X_train, y_train, scorer)"
   ]
  },
  {
   "cell_type": "markdown",
   "metadata": {},
   "source": [
    "### Making predictions on the validation set with RF\n",
    "We use the RF classifier to make predictions on the validation set to allow  us to evaluate its performance."
   ]
  },
  {
   "cell_type": "code",
   "execution_count": 37,
   "metadata": {},
   "outputs": [],
   "source": [
    "y_pred = rf_cf.predict(X_val)"
   ]
  },
  {
   "cell_type": "markdown",
   "metadata": {},
   "source": [
    "### Confusion matrix for RF\n",
    "The confusion matrix will tell us how each class was misclassified. "
   ]
  },
  {
   "cell_type": "code",
   "execution_count": 38,
   "metadata": {},
   "outputs": [],
   "source": [
    "from sklearn.metrics import confusion_matrix"
   ]
  },
  {
   "cell_type": "code",
   "execution_count": 39,
   "metadata": {},
   "outputs": [],
   "source": [
    "cf = confusion_matrix(y_val, y_pred)"
   ]
  },
  {
   "cell_type": "code",
   "execution_count": 40,
   "metadata": {},
   "outputs": [],
   "source": [
    "import seaborn as sns\n",
    "import numpy as np"
   ]
  },
  {
   "cell_type": "code",
   "execution_count": 41,
   "metadata": {
    "scrolled": true
   },
   "outputs": [
    {
     "data": {
      "text/plain": [
       "<matplotlib.axes._subplots.AxesSubplot at 0x11e963e90>"
      ]
     },
     "execution_count": 41,
     "metadata": {},
     "output_type": "execute_result"
    },
    {
     "data": {
      "image/png": "[encoded data removed]",
      "text/plain": [
       "<Figure size 432x288 with 2 Axes>"
      ]
     },
     "metadata": {
      "needs_background": "light"
     },
     "output_type": "display_data"
    }
   ],
   "source": [
    "sns.heatmap(cf/np.sum(cf), annot=True, fmt='.2%', cmap='Blues')"
   ]
  },
  {
   "cell_type": "markdown",
   "metadata": {},
   "source": [
    "### Classification report for RF\n",
    "The classification report will give us detailed evaluation metrics."
   ]
  },
  {
   "cell_type": "code",
   "execution_count": 42,
   "metadata": {},
   "outputs": [],
   "source": [
    "from sklearn.metrics import classification_report"
   ]
  },
  {
   "cell_type": "code",
   "execution_count": 43,
   "metadata": {},
   "outputs": [
    {
     "name": "stderr",
     "output_type": "stream",
     "text": [
      "/Users/alexandrosmichael/Desktop/CS/CS5014/Practicals/P2/virtualenv/lib/python3.7/site-packages/sklearn/metrics/_classification.py:1272: UndefinedMetricWarning: Precision and F-score are ill-defined and being set to 0.0 in labels with no predicted samples. Use `zero_division` parameter to control this behavior.\n",
      "  _warn_prf(average, modifier, msg_start, len(result))\n"
     ]
    }
   ],
   "source": [
    "cr = classification_report(y_val, y_pred)"
   ]
  },
  {
   "cell_type": "code",
   "execution_count": 44,
   "metadata": {},
   "outputs": [
    {
     "name": "stdout",
     "output_type": "stream",
     "text": [
      "              precision    recall  f1-score   support\n",
      "\n",
      "  background       0.92      1.00      0.96     10887\n",
      "    dead pup       0.00      0.00      0.00        55\n",
      "    juvenile       0.00      0.00      0.00        50\n",
      " moulted pup       0.00      0.00      0.00       454\n",
      "   whitecoat       0.77      0.47      0.58       996\n",
      "\n",
      "    accuracy                           0.91     12442\n",
      "   macro avg       0.34      0.29      0.31     12442\n",
      "weighted avg       0.87      0.91      0.88     12442\n",
      "\n"
     ]
    }
   ],
   "source": [
    "print(cr)"
   ]
  },
  {
   "cell_type": "code",
   "execution_count": 45,
   "metadata": {},
   "outputs": [
    {
     "name": "stdout",
     "output_type": "stream",
     "text": [
      "Balanced accuracy:  0.2931359496957242\n"
     ]
    }
   ],
   "source": [
    "from sklearn.metrics import balanced_accuracy_score\n",
    "\n",
    "print('Balanced accuracy: ', balanced_accuracy_score(y_val, y_pred))"
   ]
  },
  {
   "cell_type": "markdown",
   "metadata": {},
   "source": [
    "### Train RF with undersampled dataset\n",
    "Here, we train the RandomForest classifier using the undersampled dataset."
   ]
  },
  {
   "cell_type": "code",
   "execution_count": 46,
   "metadata": {},
   "outputs": [
    {
     "name": "stdout",
     "output_type": "stream",
     "text": [
      "Grid:  {'cf__n_estimators': [400], 'cf__max_depth': [None], 'cf__min_samples_split': [2]}\n",
      "Scorer:  ['balanced_accuracy', 'accuracy']\n",
      "Random Forest cross-val time elapsed:  21.88902711868286\n",
      "Best params:  {'cf__max_depth': None, 'cf__min_samples_split': 2, 'cf__n_estimators': 400}\n",
      "PCA number of components 383\n",
      "Best cross-val balanced accuracy score: 55.67%\n",
      "Best cross-val accuracy score: 54.95%\n"
     ]
    },
    {
     "data": {
      "text/html": [
       "<div>\n",
       "<style scoped>\n",
       "    .dataframe tbody tr th:only-of-type {\n",
       "        vertical-align: middle;\n",
       "    }\n",
       "\n",
       "    .dataframe tbody tr th {\n",
       "        vertical-align: top;\n",
       "    }\n",
       "\n",
       "    .dataframe thead th {\n",
       "        text-align: right;\n",
       "    }\n",
       "</style>\n",
       "<table border=\"1\" class=\"dataframe\">\n",
       "  <thead>\n",
       "    <tr style=\"text-align: right;\">\n",
       "      <th></th>\n",
       "      <th>mean_fit_time</th>\n",
       "      <th>std_fit_time</th>\n",
       "      <th>mean_score_time</th>\n",
       "      <th>std_score_time</th>\n",
       "      <th>param_cf__max_depth</th>\n",
       "      <th>param_cf__min_samples_split</th>\n",
       "      <th>param_cf__n_estimators</th>\n",
       "      <th>params</th>\n",
       "      <th>split0_test_balanced_accuracy</th>\n",
       "      <th>split1_test_balanced_accuracy</th>\n",
       "      <th>...</th>\n",
       "      <th>std_test_balanced_accuracy</th>\n",
       "      <th>rank_test_balanced_accuracy</th>\n",
       "      <th>split0_test_accuracy</th>\n",
       "      <th>split1_test_accuracy</th>\n",
       "      <th>split2_test_accuracy</th>\n",
       "      <th>split3_test_accuracy</th>\n",
       "      <th>split4_test_accuracy</th>\n",
       "      <th>mean_test_accuracy</th>\n",
       "      <th>std_test_accuracy</th>\n",
       "      <th>rank_test_accuracy</th>\n",
       "    </tr>\n",
       "  </thead>\n",
       "  <tbody>\n",
       "    <tr>\n",
       "      <th>0</th>\n",
       "      <td>8.561392</td>\n",
       "      <td>1.96284</td>\n",
       "      <td>0.212396</td>\n",
       "      <td>0.109098</td>\n",
       "      <td>None</td>\n",
       "      <td>2</td>\n",
       "      <td>400</td>\n",
       "      <td>{'cf__max_depth': None, 'cf__min_samples_split...</td>\n",
       "      <td>0.498373</td>\n",
       "      <td>0.544891</td>\n",
       "      <td>...</td>\n",
       "      <td>0.033854</td>\n",
       "      <td>1</td>\n",
       "      <td>0.489899</td>\n",
       "      <td>0.555556</td>\n",
       "      <td>0.606061</td>\n",
       "      <td>0.525253</td>\n",
       "      <td>0.570707</td>\n",
       "      <td>0.549495</td>\n",
       "      <td>0.039562</td>\n",
       "      <td>1</td>\n",
       "    </tr>\n",
       "  </tbody>\n",
       "</table>\n",
       "<p>1 rows × 24 columns</p>\n",
       "</div>"
      ],
      "text/plain": [
       "   mean_fit_time  std_fit_time  mean_score_time  std_score_time  \\\n",
       "0       8.561392       1.96284         0.212396        0.109098   \n",
       "\n",
       "  param_cf__max_depth param_cf__min_samples_split param_cf__n_estimators  \\\n",
       "0                None                           2                    400   \n",
       "\n",
       "                                              params  \\\n",
       "0  {'cf__max_depth': None, 'cf__min_samples_split...   \n",
       "\n",
       "   split0_test_balanced_accuracy  split1_test_balanced_accuracy  ...  \\\n",
       "0                       0.498373                       0.544891  ...   \n",
       "\n",
       "   std_test_balanced_accuracy  rank_test_balanced_accuracy  \\\n",
       "0                    0.033854                            1   \n",
       "\n",
       "   split0_test_accuracy  split1_test_accuracy  split2_test_accuracy  \\\n",
       "0              0.489899              0.555556              0.606061   \n",
       "\n",
       "   split3_test_accuracy  split4_test_accuracy  mean_test_accuracy  \\\n",
       "0              0.525253              0.570707            0.549495   \n",
       "\n",
       "   std_test_accuracy  rank_test_accuracy  \n",
       "0           0.039562                   1  \n",
       "\n",
       "[1 rows x 24 columns]"
      ]
     },
     "metadata": {},
     "output_type": "display_data"
    },
    {
     "name": "stdout",
     "output_type": "stream",
     "text": [
      "\n",
      "\n"
     ]
    }
   ],
   "source": [
    "rf_cf_under = rf_cross_validate_pca(X_train_under, y_train_under, scorer)"
   ]
  },
  {
   "cell_type": "markdown",
   "metadata": {},
   "source": [
    "### Making prediction on evaluation set with RF trained on undersampled dataset\n",
    "We use the RF classifier trained using the undersampled dataset to make predictions on the validation set to allow  us to evaluate its performance."
   ]
  },
  {
   "cell_type": "code",
   "execution_count": 47,
   "metadata": {},
   "outputs": [],
   "source": [
    "y_pred_under = rf_cf_under.predict(X_val)"
   ]
  },
  {
   "cell_type": "markdown",
   "metadata": {},
   "source": [
    "### Confusion matrix for RF trained on undersampled dataset\n",
    "The confusion matrix will tell us how each class was misclassified. "
   ]
  },
  {
   "cell_type": "code",
   "execution_count": 48,
   "metadata": {},
   "outputs": [],
   "source": [
    "cf_under = confusion_matrix(y_val, y_pred_under)"
   ]
  },
  {
   "cell_type": "code",
   "execution_count": 49,
   "metadata": {},
   "outputs": [
    {
     "data": {
      "text/plain": [
       "<matplotlib.axes._subplots.AxesSubplot at 0x11d302150>"
      ]
     },
     "execution_count": 49,
     "metadata": {},
     "output_type": "execute_result"
    },
    {
     "data": {
      "image/png": "[encoded data removed]",
      "text/plain": [
       "<Figure size 432x288 with 2 Axes>"
      ]
     },
     "metadata": {
      "needs_background": "light"
     },
     "output_type": "display_data"
    }
   ],
   "source": [
    "sns.heatmap(cf_under/np.sum(cf_under), annot=True, fmt='.2%', cmap='Blues')"
   ]
  },
  {
   "cell_type": "markdown",
   "metadata": {},
   "source": [
    "### Classification report for RF trained on undersampled dataset\n",
    "The classification report will give us detailed evaluation metrics."
   ]
  },
  {
   "cell_type": "code",
   "execution_count": 50,
   "metadata": {},
   "outputs": [],
   "source": [
    "cr_under = classification_report(y_val, y_pred_under)"
   ]
  },
  {
   "cell_type": "code",
   "execution_count": 51,
   "metadata": {},
   "outputs": [
    {
     "name": "stdout",
     "output_type": "stream",
     "text": [
      "              precision    recall  f1-score   support\n",
      "\n",
      "  background       0.98      0.72      0.83     10887\n",
      "    dead pup       0.02      0.55      0.04        55\n",
      "    juvenile       0.06      0.86      0.11        50\n",
      " moulted pup       0.10      0.30      0.15       454\n",
      "   whitecoat       0.40      0.42      0.41       996\n",
      "\n",
      "    accuracy                           0.68     12442\n",
      "   macro avg       0.31      0.57      0.31     12442\n",
      "weighted avg       0.90      0.68      0.77     12442\n",
      "\n"
     ]
    }
   ],
   "source": [
    "print(cr_under)"
   ]
  },
  {
   "cell_type": "markdown",
   "metadata": {},
   "source": [
    "### Training SVM  Classifier\n",
    "Here we define our estimator as well as the grid search. The estimator is a pipeline in which the features are scaled, PCA is perfromed and an SVC classifier is trained. \n"
   ]
  },
  {
   "cell_type": "code",
   "execution_count": 52,
   "metadata": {},
   "outputs": [],
   "source": [
    "from sklearn.svm import LinearSVC"
   ]
  },
  {
   "cell_type": "code",
   "execution_count": 53,
   "metadata": {},
   "outputs": [],
   "source": [
    "def svc_cross_validate_pca(X_train, y_train, scorer):\n",
    "    kf = KFold(n_splits=5, shuffle=True, random_state=42)\n",
    "    pipeline = Pipeline(\n",
    "        [('sc', StandardScaler()), ('pca', PCA(n_components=0.99, svd_solver='full')), ('cf', LinearSVC())])\n",
    "\n",
    "    params = {\n",
    "        'cf__C': [1.0],\n",
    "        'cf__loss': ['squared_hinge'],\n",
    "        'cf__dual': [False],\n",
    "    }\n",
    "    \n",
    "    print('Grid: ', params)\n",
    "    \n",
    "    print('Scorer: ', scorer)\n",
    "    \n",
    "    cf = GridSearchCV(pipeline, params, cv=kf, n_jobs=-1, scoring=scorer, refit=scorer[0])\n",
    "\n",
    "    start = time.time()\n",
    "    cf.fit(X_train, y_train)\n",
    "    end = time.time()\n",
    "    print('SVC cross-val time elapsed: ', end - start)\n",
    "\n",
    "    print('Best params: ', cf.best_params_)    \n",
    "\n",
    "    print('PCA number of components', cf.best_estimator_.named_steps['pca'].n_components_)\n",
    "\n",
    "    balanced_acc_score = cf.best_score_ * 100\n",
    "    \n",
    "    acc_score =  cf.cv_results_['mean_test_accuracy'][cf.best_index_] * 100\n",
    "\n",
    "    print(\"Best cross-val balanced accuracy score: \" + str(round(balanced_acc_score, 2)) + '%')\n",
    "    print(\"Best cross-val accuracy score: \" + str(round(acc_score, 2)) + '%')\n",
    "    \n",
    "    cv_results = pd.DataFrame(cf.cv_results_)\n",
    "    display(cv_results)\n",
    "\n",
    "    print('\\n')\n",
    "    return cf.best_estimator_"
   ]
  },
  {
   "cell_type": "code",
   "execution_count": 54,
   "metadata": {},
   "outputs": [
    {
     "name": "stdout",
     "output_type": "stream",
     "text": [
      "Grid:  {'cf__C': [1.0], 'cf__loss': ['squared_hinge'], 'cf__dual': [False]}\n",
      "Scorer:  ['balanced_accuracy', 'accuracy']\n",
      "SVC cross-val time elapsed:  274.38257098197937\n",
      "Best params:  {'cf__C': 1.0, 'cf__dual': False, 'cf__loss': 'squared_hinge'}\n",
      "PCA number of components 473\n",
      "Best cross-val balanced accuracy score: 47.07%\n",
      "Best cross-val accuracy score: 94.03%\n"
     ]
    },
    {
     "data": {
      "text/html": [
       "<div>\n",
       "<style scoped>\n",
       "    .dataframe tbody tr th:only-of-type {\n",
       "        vertical-align: middle;\n",
       "    }\n",
       "\n",
       "    .dataframe tbody tr th {\n",
       "        vertical-align: top;\n",
       "    }\n",
       "\n",
       "    .dataframe thead th {\n",
       "        text-align: right;\n",
       "    }\n",
       "</style>\n",
       "<table border=\"1\" class=\"dataframe\">\n",
       "  <thead>\n",
       "    <tr style=\"text-align: right;\">\n",
       "      <th></th>\n",
       "      <th>mean_fit_time</th>\n",
       "      <th>std_fit_time</th>\n",
       "      <th>mean_score_time</th>\n",
       "      <th>std_score_time</th>\n",
       "      <th>param_cf__C</th>\n",
       "      <th>param_cf__dual</th>\n",
       "      <th>param_cf__loss</th>\n",
       "      <th>params</th>\n",
       "      <th>split0_test_balanced_accuracy</th>\n",
       "      <th>split1_test_balanced_accuracy</th>\n",
       "      <th>...</th>\n",
       "      <th>std_test_balanced_accuracy</th>\n",
       "      <th>rank_test_balanced_accuracy</th>\n",
       "      <th>split0_test_accuracy</th>\n",
       "      <th>split1_test_accuracy</th>\n",
       "      <th>split2_test_accuracy</th>\n",
       "      <th>split3_test_accuracy</th>\n",
       "      <th>split4_test_accuracy</th>\n",
       "      <th>mean_test_accuracy</th>\n",
       "      <th>std_test_accuracy</th>\n",
       "      <th>rank_test_accuracy</th>\n",
       "    </tr>\n",
       "  </thead>\n",
       "  <tbody>\n",
       "    <tr>\n",
       "      <th>0</th>\n",
       "      <td>141.774747</td>\n",
       "      <td>43.031581</td>\n",
       "      <td>0.948483</td>\n",
       "      <td>0.358421</td>\n",
       "      <td>1</td>\n",
       "      <td>False</td>\n",
       "      <td>squared_hinge</td>\n",
       "      <td>{'cf__C': 1.0, 'cf__dual': False, 'cf__loss': ...</td>\n",
       "      <td>0.472094</td>\n",
       "      <td>0.457167</td>\n",
       "      <td>...</td>\n",
       "      <td>0.008834</td>\n",
       "      <td>1</td>\n",
       "      <td>0.938618</td>\n",
       "      <td>0.941431</td>\n",
       "      <td>0.943741</td>\n",
       "      <td>0.939214</td>\n",
       "      <td>0.938511</td>\n",
       "      <td>0.940303</td>\n",
       "      <td>0.002016</td>\n",
       "      <td>1</td>\n",
       "    </tr>\n",
       "  </tbody>\n",
       "</table>\n",
       "<p>1 rows × 24 columns</p>\n",
       "</div>"
      ],
      "text/plain": [
       "   mean_fit_time  std_fit_time  mean_score_time  std_score_time param_cf__C  \\\n",
       "0     141.774747     43.031581         0.948483        0.358421           1   \n",
       "\n",
       "  param_cf__dual param_cf__loss  \\\n",
       "0          False  squared_hinge   \n",
       "\n",
       "                                              params  \\\n",
       "0  {'cf__C': 1.0, 'cf__dual': False, 'cf__loss': ...   \n",
       "\n",
       "   split0_test_balanced_accuracy  split1_test_balanced_accuracy  ...  \\\n",
       "0                       0.472094                       0.457167  ...   \n",
       "\n",
       "   std_test_balanced_accuracy  rank_test_balanced_accuracy  \\\n",
       "0                    0.008834                            1   \n",
       "\n",
       "   split0_test_accuracy  split1_test_accuracy  split2_test_accuracy  \\\n",
       "0              0.938618              0.941431              0.943741   \n",
       "\n",
       "   split3_test_accuracy  split4_test_accuracy  mean_test_accuracy  \\\n",
       "0              0.939214              0.938511            0.940303   \n",
       "\n",
       "   std_test_accuracy  rank_test_accuracy  \n",
       "0           0.002016                   1  \n",
       "\n",
       "[1 rows x 24 columns]"
      ]
     },
     "metadata": {},
     "output_type": "display_data"
    },
    {
     "name": "stdout",
     "output_type": "stream",
     "text": [
      "\n",
      "\n"
     ]
    }
   ],
   "source": [
    "svc_cf = svc_cross_validate_pca(X_train, y_train, scorer)"
   ]
  },
  {
   "cell_type": "markdown",
   "metadata": {},
   "source": [
    "### Making predictions on the validation set with SVC\n",
    "We use the SVC classifier to make predictions on the validation set to allow  us to evaluate its performance."
   ]
  },
  {
   "cell_type": "code",
   "execution_count": 55,
   "metadata": {},
   "outputs": [],
   "source": [
    "y_pred = svc_cf.predict(X_val)"
   ]
  },
  {
   "cell_type": "markdown",
   "metadata": {},
   "source": [
    "### Confusion matrix for SVC\n",
    "The confusion matrix will tell us how each class was misclassified. "
   ]
  },
  {
   "cell_type": "code",
   "execution_count": 56,
   "metadata": {},
   "outputs": [],
   "source": [
    "from sklearn.metrics import confusion_matrix"
   ]
  },
  {
   "cell_type": "code",
   "execution_count": 57,
   "metadata": {},
   "outputs": [],
   "source": [
    "cf = confusion_matrix(y_val, y_pred)"
   ]
  },
  {
   "cell_type": "code",
   "execution_count": 58,
   "metadata": {},
   "outputs": [],
   "source": [
    "import seaborn as sns\n",
    "import numpy as np"
   ]
  },
  {
   "cell_type": "code",
   "execution_count": 59,
   "metadata": {},
   "outputs": [
    {
     "data": {
      "text/plain": [
       "<matplotlib.axes._subplots.AxesSubplot at 0x11d61fed0>"
      ]
     },
     "execution_count": 59,
     "metadata": {},
     "output_type": "execute_result"
    },
    {
     "data": {
      "image/png": "[encoded data removed]",
      "text/plain": [
       "<Figure size 432x288 with 2 Axes>"
      ]
     },
     "metadata": {
      "needs_background": "light"
     },
     "output_type": "display_data"
    }
   ],
   "source": [
    "sns.heatmap(cf/np.sum(cf), annot=True, fmt='.2%', cmap='Blues')"
   ]
  },
  {
   "cell_type": "markdown",
   "metadata": {},
   "source": [
    "### Classification report for RF\n",
    "The classification report will give us detailed evaluation metrics."
   ]
  },
  {
   "cell_type": "code",
   "execution_count": 60,
   "metadata": {},
   "outputs": [],
   "source": [
    "from sklearn.metrics import classification_report"
   ]
  },
  {
   "cell_type": "code",
   "execution_count": 61,
   "metadata": {},
   "outputs": [],
   "source": [
    "cr = classification_report(y_val, y_pred)"
   ]
  },
  {
   "cell_type": "code",
   "execution_count": 62,
   "metadata": {},
   "outputs": [
    {
     "name": "stdout",
     "output_type": "stream",
     "text": [
      "              precision    recall  f1-score   support\n",
      "\n",
      "  background       0.97      0.99      0.98     10887\n",
      "    dead pup       0.50      0.02      0.04        55\n",
      "    juvenile       0.42      0.36      0.39        50\n",
      " moulted pup       0.65      0.15      0.24       454\n",
      "   whitecoat       0.74      0.82      0.78       996\n",
      "\n",
      "    accuracy                           0.94     12442\n",
      "   macro avg       0.66      0.47      0.48     12442\n",
      "weighted avg       0.93      0.94      0.93     12442\n",
      "\n"
     ]
    }
   ],
   "source": [
    "print(cr)"
   ]
  },
  {
   "cell_type": "code",
   "execution_count": 63,
   "metadata": {},
   "outputs": [
    {
     "name": "stdout",
     "output_type": "stream",
     "text": [
      "Balanced accuracy:  0.46720852835726845\n"
     ]
    }
   ],
   "source": [
    "from sklearn.metrics import balanced_accuracy_score\n",
    "\n",
    "print('Balanced accuracy: ', balanced_accuracy_score(y_val, y_pred))"
   ]
  },
  {
   "cell_type": "markdown",
   "metadata": {},
   "source": [
    "### Train SVC with undersampled dataset\n",
    "Here, we train the SVC classifier using the undersampled dataset."
   ]
  },
  {
   "cell_type": "code",
   "execution_count": 64,
   "metadata": {},
   "outputs": [
    {
     "name": "stdout",
     "output_type": "stream",
     "text": [
      "Grid:  {'cf__C': [1.0], 'cf__loss': ['squared_hinge'], 'cf__dual': [False]}\n",
      "Scorer:  ['balanced_accuracy', 'accuracy']\n",
      "SVC cross-val time elapsed:  40.17562389373779\n",
      "Best params:  {'cf__C': 1.0, 'cf__dual': False, 'cf__loss': 'squared_hinge'}\n",
      "PCA number of components 383\n",
      "Best cross-val balanced accuracy score: 52.26%\n",
      "Best cross-val accuracy score: 52.02%\n"
     ]
    },
    {
     "data": {
      "text/html": [
       "<div>\n",
       "<style scoped>\n",
       "    .dataframe tbody tr th:only-of-type {\n",
       "        vertical-align: middle;\n",
       "    }\n",
       "\n",
       "    .dataframe tbody tr th {\n",
       "        vertical-align: top;\n",
       "    }\n",
       "\n",
       "    .dataframe thead th {\n",
       "        text-align: right;\n",
       "    }\n",
       "</style>\n",
       "<table border=\"1\" class=\"dataframe\">\n",
       "  <thead>\n",
       "    <tr style=\"text-align: right;\">\n",
       "      <th></th>\n",
       "      <th>mean_fit_time</th>\n",
       "      <th>std_fit_time</th>\n",
       "      <th>mean_score_time</th>\n",
       "      <th>std_score_time</th>\n",
       "      <th>param_cf__C</th>\n",
       "      <th>param_cf__dual</th>\n",
       "      <th>param_cf__loss</th>\n",
       "      <th>params</th>\n",
       "      <th>split0_test_balanced_accuracy</th>\n",
       "      <th>split1_test_balanced_accuracy</th>\n",
       "      <th>...</th>\n",
       "      <th>std_test_balanced_accuracy</th>\n",
       "      <th>rank_test_balanced_accuracy</th>\n",
       "      <th>split0_test_accuracy</th>\n",
       "      <th>split1_test_accuracy</th>\n",
       "      <th>split2_test_accuracy</th>\n",
       "      <th>split3_test_accuracy</th>\n",
       "      <th>split4_test_accuracy</th>\n",
       "      <th>mean_test_accuracy</th>\n",
       "      <th>std_test_accuracy</th>\n",
       "      <th>rank_test_accuracy</th>\n",
       "    </tr>\n",
       "  </thead>\n",
       "  <tbody>\n",
       "    <tr>\n",
       "      <th>0</th>\n",
       "      <td>20.076202</td>\n",
       "      <td>5.816949</td>\n",
       "      <td>0.016708</td>\n",
       "      <td>0.005843</td>\n",
       "      <td>1</td>\n",
       "      <td>False</td>\n",
       "      <td>squared_hinge</td>\n",
       "      <td>{'cf__C': 1.0, 'cf__dual': False, 'cf__loss': ...</td>\n",
       "      <td>0.483779</td>\n",
       "      <td>0.533871</td>\n",
       "      <td>...</td>\n",
       "      <td>0.019753</td>\n",
       "      <td>1</td>\n",
       "      <td>0.479798</td>\n",
       "      <td>0.540404</td>\n",
       "      <td>0.550505</td>\n",
       "      <td>0.494949</td>\n",
       "      <td>0.535354</td>\n",
       "      <td>0.520202</td>\n",
       "      <td>0.027663</td>\n",
       "      <td>1</td>\n",
       "    </tr>\n",
       "  </tbody>\n",
       "</table>\n",
       "<p>1 rows × 24 columns</p>\n",
       "</div>"
      ],
      "text/plain": [
       "   mean_fit_time  std_fit_time  mean_score_time  std_score_time param_cf__C  \\\n",
       "0      20.076202      5.816949         0.016708        0.005843           1   \n",
       "\n",
       "  param_cf__dual param_cf__loss  \\\n",
       "0          False  squared_hinge   \n",
       "\n",
       "                                              params  \\\n",
       "0  {'cf__C': 1.0, 'cf__dual': False, 'cf__loss': ...   \n",
       "\n",
       "   split0_test_balanced_accuracy  split1_test_balanced_accuracy  ...  \\\n",
       "0                       0.483779                       0.533871  ...   \n",
       "\n",
       "   std_test_balanced_accuracy  rank_test_balanced_accuracy  \\\n",
       "0                    0.019753                            1   \n",
       "\n",
       "   split0_test_accuracy  split1_test_accuracy  split2_test_accuracy  \\\n",
       "0              0.479798              0.540404              0.550505   \n",
       "\n",
       "   split3_test_accuracy  split4_test_accuracy  mean_test_accuracy  \\\n",
       "0              0.494949              0.535354            0.520202   \n",
       "\n",
       "   std_test_accuracy  rank_test_accuracy  \n",
       "0           0.027663                   1  \n",
       "\n",
       "[1 rows x 24 columns]"
      ]
     },
     "metadata": {},
     "output_type": "display_data"
    },
    {
     "name": "stdout",
     "output_type": "stream",
     "text": [
      "\n",
      "\n"
     ]
    }
   ],
   "source": [
    "svc_cf_under = svc_cross_validate_pca(X_train_under, y_train_under, scorer)"
   ]
  },
  {
   "cell_type": "markdown",
   "metadata": {},
   "source": [
    "### Making prediction on evaluation set with SVC trained on undersampled dataset\n",
    "We use the SVC classifier trained using the undersampled dataset to make predictions on the validation set to allow  us to evaluate its performance."
   ]
  },
  {
   "cell_type": "code",
   "execution_count": 65,
   "metadata": {},
   "outputs": [],
   "source": [
    "y_pred_under = svc_cf_under.predict(X_val)"
   ]
  },
  {
   "cell_type": "markdown",
   "metadata": {},
   "source": [
    "### Confusion matrix for SVC trained on undersampled dataset\n",
    "The confusion matrix will tell us how each class was misclassified. "
   ]
  },
  {
   "cell_type": "code",
   "execution_count": 66,
   "metadata": {},
   "outputs": [],
   "source": [
    "cf_under = confusion_matrix(y_val, y_pred_under)"
   ]
  },
  {
   "cell_type": "code",
   "execution_count": 67,
   "metadata": {},
   "outputs": [
    {
     "data": {
      "text/plain": [
       "<matplotlib.axes._subplots.AxesSubplot at 0x11e9edc10>"
      ]
     },
     "execution_count": 67,
     "metadata": {},
     "output_type": "execute_result"
    },
    {
     "data": {
      "image/png": "[encoded data removed]",
      "text/plain": [
       "<Figure size 432x288 with 2 Axes>"
      ]
     },
     "metadata": {
      "needs_background": "light"
     },
     "output_type": "display_data"
    }
   ],
   "source": [
    "sns.heatmap(cf_under/np.sum(cf_under), annot=True, fmt='.2%', cmap='Blues')"
   ]
  },
  {
   "cell_type": "markdown",
   "metadata": {},
   "source": [
    "### Classification report for SVC trained on undersampled dataset\n",
    "The classification report will give us detailed evaluation metrics."
   ]
  },
  {
   "cell_type": "code",
   "execution_count": 68,
   "metadata": {},
   "outputs": [],
   "source": [
    "cr_under = classification_report(y_val, y_pred_under)"
   ]
  },
  {
   "cell_type": "code",
   "execution_count": 69,
   "metadata": {},
   "outputs": [
    {
     "name": "stdout",
     "output_type": "stream",
     "text": [
      "              precision    recall  f1-score   support\n",
      "\n",
      "  background       0.98      0.58      0.73     10887\n",
      "    dead pup       0.02      0.44      0.03        55\n",
      "    juvenile       0.04      0.70      0.08        50\n",
      " moulted pup       0.06      0.31      0.11       454\n",
      "   whitecoat       0.29      0.42      0.34       996\n",
      "\n",
      "    accuracy                           0.56     12442\n",
      "   macro avg       0.28      0.49      0.26     12442\n",
      "weighted avg       0.88      0.56      0.67     12442\n",
      "\n"
     ]
    }
   ],
   "source": [
    "print(cr_under)"
   ]
  },
  {
   "cell_type": "markdown",
   "metadata": {},
   "source": [
    "## Produce the Y_test.csv file\n",
    "\n",
    "This is the file that will be used to evaluate the final performance of the classifier. After analysing the results we decided that we will be using the SVM classifier that was trained on the original dataset. "
   ]
  },
  {
   "cell_type": "code",
   "execution_count": 79,
   "metadata": {},
   "outputs": [],
   "source": [
    "X_test = data_dict['X_test']"
   ]
  },
  {
   "cell_type": "code",
   "execution_count": 80,
   "metadata": {},
   "outputs": [
    {
     "name": "stdout",
     "output_type": "stream",
     "text": [
      "20335\n"
     ]
    }
   ],
   "source": [
    "y_test = svc_cf.predict(X_test)\n",
    "print(len(y_test))"
   ]
  },
  {
   "cell_type": "code",
   "execution_count": 81,
   "metadata": {},
   "outputs": [],
   "source": [
    "output_path = pathlib.Path().joinpath(MULTI_DIR, 'Y_test.csv')\n",
    "np.savetxt(output_path, y_test, fmt=\"%s\")"
   ]
  }
 ],
 "metadata": {
  "kernelspec": {
   "display_name": "Python 3",
   "language": "python",
   "name": "python3"
  },
  "language_info": {
   "codemirror_mode": {
    "name": "ipython",
    "version": 3
   },
   "file_extension": ".py",
   "mimetype": "text/x-python",
   "name": "python",
   "nbconvert_exporter": "python",
   "pygments_lexer": "ipython3",
   "version": "3.7.6"
  }
 },
 "nbformat": 4,
 "nbformat_minor": 4
}
