{
 "cells": [
  {
   "cell_type": "markdown",
   "metadata": {},
   "source": [
    "# Data Preprocessing"
   ]
  },
  {
   "cell_type": "markdown",
   "metadata": {},
   "source": [
    "### Load The Data\n",
    "\n",
    "The first step we take is to load the binary dataset into the program."
   ]
  },
  {
   "cell_type": "code",
   "execution_count": 92,
   "metadata": {},
   "outputs": [
    {
     "name": "stdout",
     "output_type": "stream",
     "text": [
      "Loading binary class data in note...\n",
      "<class 'pandas.core.frame.DataFrame'>\n",
      "RangeIndex: 62210 entries, 0 to 62209\n",
      "Columns: 964 entries, 0 to 963\n",
      "dtypes: float64(964)\n",
      "memory usage: 457.5 MB\n",
      "Unique values ['background' 'seal']\n",
      "<class 'pandas.core.frame.DataFrame'>\n",
      "RangeIndex: 20335 entries, 0 to 20334\n",
      "Columns: 964 entries, 0 to 963\n",
      "dtypes: float64(964)\n",
      "memory usage: 149.6 MB\n",
      "\n",
      "\n"
     ]
    }
   ],
   "source": [
    "import pathlib\n",
    "import pandas as pd\n",
    "import numpy as np\n",
    "import argparse\n",
    "from settings import *\n",
    "\n",
    "def load_binary_data():\n",
    "    print('Loading binary class data in note...')\n",
    "    X_train_path = pathlib.Path().joinpath(BINARY_DIR, 'X_train.csv')\n",
    "    X_train_df = pd.read_csv(X_train_path, header=None)\n",
    "    X_train_df.info()\n",
    "\n",
    "    y_train_path = pathlib.Path().joinpath(BINARY_DIR, 'Y_train.csv')\n",
    "    y_train_df = pd.read_csv(y_train_path, header=None)\n",
    "    print('Unique values', y_train_df.iloc[:, 0].unique())\n",
    "\n",
    "    X_test_path = pathlib.Path().joinpath(BINARY_DIR, 'X_test.csv')\n",
    "    X_test_df = pd.read_csv(X_test_path, header=None)\n",
    "    X_test_df.info()\n",
    "\n",
    "    data_dict = {\n",
    "        'X_train': X_train_df,\n",
    "        'X_test': X_test_df,\n",
    "        'y_train': y_train_df\n",
    "    }\n",
    "    print('\\n')\n",
    "\n",
    "    return data_dict\n",
    "\n",
    "\n",
    "data_dict = load_binary_data()"
   ]
  },
  {
   "cell_type": "markdown",
   "metadata": {},
   "source": [
    "### Clean The Data\n",
    "\n",
    "We clean the data by removing the features taken from a random normal distribution."
   ]
  },
  {
   "cell_type": "code",
   "execution_count": 93,
   "metadata": {},
   "outputs": [
    {
     "name": "stdout",
     "output_type": "stream",
     "text": [
      "Cleaning data...\n",
      "X train after cleaning:\n",
      "<class 'pandas.core.frame.DataFrame'>\n",
      "RangeIndex: 62210 entries, 0 to 62209\n",
      "Columns: 948 entries, 0 to 963\n",
      "dtypes: float64(948)\n",
      "memory usage: 449.9 MB\n",
      "X_test after cleaning\n",
      "<class 'pandas.core.frame.DataFrame'>\n",
      "RangeIndex: 20335 entries, 0 to 20334\n",
      "Columns: 948 entries, 0 to 963\n",
      "dtypes: float64(948)\n",
      "memory usage: 147.1 MB\n",
      "\n",
      "\n"
     ]
    }
   ],
   "source": [
    "def clean_data(data_dict):\n",
    "    print('Cleaning data...')\n",
    "    X_train_df = data_dict['X_train']\n",
    "    X_test_df = data_dict['X_test']\n",
    "    y_train_df = data_dict['y_train']\n",
    "\n",
    "    X_train_df = X_train_df.drop(X_train_df.columns[900:916], axis=1)  # df.columns is zero-based pd.Index\n",
    "    X_test_df = X_test_df.drop(X_test_df.columns[900:916], axis=1)  # df.columns is zero-based pd.Index\n",
    "\n",
    "    print('X train after cleaning:')\n",
    "    X_train_df.info()\n",
    "    print('X_test after cleaning')\n",
    "    X_test_df.info()\n",
    "    data_dict = {\n",
    "        'X_train': X_train_df,\n",
    "        'X_test': X_test_df,\n",
    "        'y_train': y_train_df\n",
    "    }\n",
    "    print('\\n')\n",
    "    return data_dict\n",
    "\n",
    "\n",
    "data_dict = clean_data(data_dict)"
   ]
  },
  {
   "cell_type": "markdown",
   "metadata": {},
   "source": [
    "### Visualise Data\n",
    "\n",
    "We visualise the target frequencies to see whether the dataset is imbalanced."
   ]
  },
  {
   "cell_type": "code",
   "execution_count": 94,
   "metadata": {},
   "outputs": [
    {
     "name": "stdout",
     "output_type": "stream",
     "text": [
      "Index(['label'], dtype='object')\n",
      "total 62210.0\n"
     ]
    },
    {
     "data": {
      "image/png": "[encoded data removed]",
      "text/plain": [
       "<Figure size 432x288 with 1 Axes>"
      ]
     },
     "metadata": {
      "needs_background": "light"
     },
     "output_type": "display_data"
    }
   ],
   "source": [
    "import seaborn as sns\n",
    "import matplotlib.pyplot as plt\n",
    "\n",
    "def plot_target_frequency(data_dict):\n",
    "    y_train = data_dict['y_train']\n",
    "    y_train.columns = ['label']\n",
    "    print(y_train.columns)\n",
    "    total = float(len(y_train))\n",
    "    print('total', total)\n",
    "    plot = sns.countplot(x='label', data=y_train)\n",
    "    for p in plot.patches:\n",
    "        height = p.get_height()\n",
    "        plot.text(p.get_x() + p.get_width() / 2.,\n",
    "                height + 3,\n",
    "                '{:1.3f}'.format(height / total),\n",
    "                ha=\"center\")\n",
    "    plt.show()\n",
    "    \n",
    "plot_target_frequency(data_dict)"
   ]
  },
  {
   "cell_type": "markdown",
   "metadata": {},
   "source": [
    "### Split training dataset to have a mock test set\n",
    "\n",
    "We split the dataset in order to obtain a mock test set, since we don't have the target labes that correspond to the data in the X_test.csv file."
   ]
  },
  {
   "cell_type": "code",
   "execution_count": 95,
   "metadata": {},
   "outputs": [],
   "source": [
    "from sklearn.model_selection import train_test_split"
   ]
  },
  {
   "cell_type": "code",
   "execution_count": 96,
   "metadata": {},
   "outputs": [],
   "source": [
    "X_train, X_val, y_train, y_val = train_test_split(data_dict['X_train'], data_dict['y_train'], test_size=0.2, random_state=23, shuffle=True, stratify=data_dict['y_train'])"
   ]
  },
  {
   "cell_type": "markdown",
   "metadata": {},
   "source": [
    "### Obtain undersampled dataset\n",
    "\n",
    "Undersample the data that  will be used for  training. We do not undersample the mock testing set as we want to keep the distribution of the classes close to the distribution of the original dataset."
   ]
  },
  {
   "cell_type": "code",
   "execution_count": 97,
   "metadata": {},
   "outputs": [],
   "source": [
    "from imblearn.under_sampling import RandomUnderSampler"
   ]
  },
  {
   "cell_type": "code",
   "execution_count": 98,
   "metadata": {},
   "outputs": [],
   "source": [
    "rus = RandomUnderSampler(random_state=0)"
   ]
  },
  {
   "cell_type": "code",
   "execution_count": 99,
   "metadata": {},
   "outputs": [],
   "source": [
    "X_train_under, y_train_under = rus.fit_resample(X_train, y_train)"
   ]
  },
  {
   "cell_type": "code",
   "execution_count": 100,
   "metadata": {},
   "outputs": [
    {
     "name": "stdout",
     "output_type": "stream",
     "text": [
      "Index(['label'], dtype='object')\n",
      "total 12444.0\n"
     ]
    },
    {
     "data": {
      "image/png": "[encoded data removed]",
      "text/plain": [
       "<Figure size 432x288 with 1 Axes>"
      ]
     },
     "metadata": {
      "needs_background": "light"
     },
     "output_type": "display_data"
    }
   ],
   "source": [
    "data_dict_under = {\n",
    "    'y_train': y_train_under\n",
    "}\n",
    "plot_target_frequency(data_dict_under)"
   ]
  },
  {
   "cell_type": "markdown",
   "metadata": {},
   "source": [
    "### Prepare Inputs \n",
    "\n",
    "We convert the dataframes into numpy ndarrays."
   ]
  },
  {
   "cell_type": "code",
   "execution_count": 101,
   "metadata": {},
   "outputs": [],
   "source": [
    "X_train = X_train.to_numpy()\n",
    "X_val = X_val.to_numpy()\n",
    "y_train = y_train.to_numpy().ravel()\n",
    "y_val = y_val.to_numpy().ravel()"
   ]
  },
  {
   "cell_type": "code",
   "execution_count": 102,
   "metadata": {},
   "outputs": [],
   "source": [
    "X_train_under = X_train_under.to_numpy()\n",
    "y_train_under = y_train_under.to_numpy().ravel()"
   ]
  },
  {
   "cell_type": "markdown",
   "metadata": {},
   "source": [
    "# Machine  Learning"
   ]
  },
  {
   "cell_type": "markdown",
   "metadata": {},
   "source": [
    "### Create Scorer\n",
    "\n",
    "We define the scoring metrics to be used during cross-validation."
   ]
  },
  {
   "cell_type": "code",
   "execution_count": 103,
   "metadata": {},
   "outputs": [],
   "source": [
    "scorer = ['balanced_accuracy', 'accuracy']"
   ]
  },
  {
   "cell_type": "markdown",
   "metadata": {},
   "source": [
    "### Training KNN\n",
    "\n",
    "Here we define our estimator as well as the grid search. The estimator is a pipeline in which the features are scaled, PCA is perfromed and a KNN classifier is trained. "
   ]
  },
  {
   "cell_type": "code",
   "execution_count": 104,
   "metadata": {},
   "outputs": [],
   "source": [
    "import time\n",
    "from sklearn.neighbors import KNeighborsClassifier\n",
    "from sklearn.pipeline import Pipeline\n",
    "from sklearn.preprocessing import StandardScaler\n",
    "from sklearn.decomposition import PCA\n",
    "from sklearn.model_selection import KFold, GridSearchCV"
   ]
  },
  {
   "cell_type": "code",
   "execution_count": 105,
   "metadata": {},
   "outputs": [],
   "source": [
    "def kn_cross_validate_pca(X_train, y_train, scorer):\n",
    "    kf = KFold(n_splits=5, shuffle=True, random_state=42)\n",
    "    pipeline = Pipeline(\n",
    "        [('sc', StandardScaler()), ('pca', PCA(n_components=0.99, svd_solver='full')), ('cf', KNeighborsClassifier())])\n",
    "\n",
    "    params = {\n",
    "        'cf__n_neighbors': [3],\n",
    "        'cf__leaf_size': [30],\n",
    "        'cf__p': [2] \n",
    "    }\n",
    "    \n",
    "    print('Grid: ', params)\n",
    "    \n",
    "    print('Scorer: ', scorer)\n",
    "    \n",
    "    cf = GridSearchCV(pipeline, params, cv=kf, n_jobs=-1, scoring=scorer, refit=scorer[0])\n",
    "\n",
    "    start = time.time()\n",
    "    cf.fit(X_train, y_train)\n",
    "    end = time.time()\n",
    "    print('K-nearest neighbors cross-val time elapsed: ', end - start)\n",
    "\n",
    "    print('Best params: ', cf.best_params_)    \n",
    "\n",
    "    print('PCA number of components', cf.best_estimator_.named_steps['pca'].n_components_)\n",
    "\n",
    "    balanced_acc_score = cf.best_score_ * 100\n",
    "    \n",
    "    acc_score =  cf.cv_results_['mean_test_accuracy'][cf.best_index_] * 100\n",
    "\n",
    "    print(\"Best cross-val balanced accuracy score: \" + str(round(balanced_acc_score, 2)) + '%')\n",
    "    print(\"Best cross-val accuracy score: \" + str(round(acc_score, 2)) + '%')\n",
    "    \n",
    "    cv_results = pd.DataFrame(cf.cv_results_)\n",
    "    display(cv_results)\n",
    "\n",
    "    print('\\n')\n",
    "    return cf.best_estimator_"
   ]
  },
  {
   "cell_type": "code",
   "execution_count": 106,
   "metadata": {},
   "outputs": [
    {
     "name": "stdout",
     "output_type": "stream",
     "text": [
      "Grid:  {'cf__n_neighbors': [3], 'cf__leaf_size': [30], 'cf__p': [2]}\n",
      "Scorer:  ['balanced_accuracy', 'accuracy']\n",
      "K-nearest neighbors cross-val time elapsed:  1080.0233438014984\n",
      "Best params:  {'cf__leaf_size': 30, 'cf__n_neighbors': 3, 'cf__p': 2}\n",
      "PCA number of components 473\n",
      "Best cross-val balanced accuracy score: 78.05%\n",
      "Best cross-val accuracy score: 94.44%\n"
     ]
    },
    {
     "data": {
      "text/html": [
       "<div>\n",
       "<style scoped>\n",
       "    .dataframe tbody tr th:only-of-type {\n",
       "        vertical-align: middle;\n",
       "    }\n",
       "\n",
       "    .dataframe tbody tr th {\n",
       "        vertical-align: top;\n",
       "    }\n",
       "\n",
       "    .dataframe thead th {\n",
       "        text-align: right;\n",
       "    }\n",
       "</style>\n",
       "<table border=\"1\" class=\"dataframe\">\n",
       "  <thead>\n",
       "    <tr style=\"text-align: right;\">\n",
       "      <th></th>\n",
       "      <th>mean_fit_time</th>\n",
       "      <th>std_fit_time</th>\n",
       "      <th>mean_score_time</th>\n",
       "      <th>std_score_time</th>\n",
       "      <th>param_cf__leaf_size</th>\n",
       "      <th>param_cf__n_neighbors</th>\n",
       "      <th>param_cf__p</th>\n",
       "      <th>params</th>\n",
       "      <th>split0_test_balanced_accuracy</th>\n",
       "      <th>split1_test_balanced_accuracy</th>\n",
       "      <th>...</th>\n",
       "      <th>std_test_balanced_accuracy</th>\n",
       "      <th>rank_test_balanced_accuracy</th>\n",
       "      <th>split0_test_accuracy</th>\n",
       "      <th>split1_test_accuracy</th>\n",
       "      <th>split2_test_accuracy</th>\n",
       "      <th>split3_test_accuracy</th>\n",
       "      <th>split4_test_accuracy</th>\n",
       "      <th>mean_test_accuracy</th>\n",
       "      <th>std_test_accuracy</th>\n",
       "      <th>rank_test_accuracy</th>\n",
       "    </tr>\n",
       "  </thead>\n",
       "  <tbody>\n",
       "    <tr>\n",
       "      <th>0</th>\n",
       "      <td>82.120762</td>\n",
       "      <td>31.440861</td>\n",
       "      <td>546.115598</td>\n",
       "      <td>96.38643</td>\n",
       "      <td>30</td>\n",
       "      <td>3</td>\n",
       "      <td>2</td>\n",
       "      <td>{'cf__leaf_size': 30, 'cf__n_neighbors': 3, 'c...</td>\n",
       "      <td>0.763712</td>\n",
       "      <td>0.785915</td>\n",
       "      <td>...</td>\n",
       "      <td>0.010408</td>\n",
       "      <td>1</td>\n",
       "      <td>0.940727</td>\n",
       "      <td>0.94786</td>\n",
       "      <td>0.940627</td>\n",
       "      <td>0.948357</td>\n",
       "      <td>0.944238</td>\n",
       "      <td>0.944362</td>\n",
       "      <td>0.003328</td>\n",
       "      <td>1</td>\n",
       "    </tr>\n",
       "  </tbody>\n",
       "</table>\n",
       "<p>1 rows × 24 columns</p>\n",
       "</div>"
      ],
      "text/plain": [
       "   mean_fit_time  std_fit_time  mean_score_time  std_score_time  \\\n",
       "0      82.120762     31.440861       546.115598        96.38643   \n",
       "\n",
       "  param_cf__leaf_size param_cf__n_neighbors param_cf__p  \\\n",
       "0                  30                     3           2   \n",
       "\n",
       "                                              params  \\\n",
       "0  {'cf__leaf_size': 30, 'cf__n_neighbors': 3, 'c...   \n",
       "\n",
       "   split0_test_balanced_accuracy  split1_test_balanced_accuracy  ...  \\\n",
       "0                       0.763712                       0.785915  ...   \n",
       "\n",
       "   std_test_balanced_accuracy  rank_test_balanced_accuracy  \\\n",
       "0                    0.010408                            1   \n",
       "\n",
       "   split0_test_accuracy  split1_test_accuracy  split2_test_accuracy  \\\n",
       "0              0.940727               0.94786              0.940627   \n",
       "\n",
       "   split3_test_accuracy  split4_test_accuracy  mean_test_accuracy  \\\n",
       "0              0.948357              0.944238            0.944362   \n",
       "\n",
       "   std_test_accuracy  rank_test_accuracy  \n",
       "0           0.003328                   1  \n",
       "\n",
       "[1 rows x 24 columns]"
      ]
     },
     "metadata": {},
     "output_type": "display_data"
    },
    {
     "name": "stdout",
     "output_type": "stream",
     "text": [
      "\n",
      "\n"
     ]
    }
   ],
   "source": [
    "knn_cf = kn_cross_validate_pca(X_train, y_train, scorer)"
   ]
  },
  {
   "cell_type": "markdown",
   "metadata": {},
   "source": [
    "### Making predictions on the validation set with KNN\n",
    "\n",
    "Make predictions on the validation set and evaluate the classifier's performance."
   ]
  },
  {
   "cell_type": "code",
   "execution_count": 175,
   "metadata": {},
   "outputs": [],
   "source": [
    "y_pred = knn_cf.predict(X_val)"
   ]
  },
  {
   "cell_type": "markdown",
   "metadata": {},
   "source": [
    "### Confusion matrix for KNN\n",
    "The confusion matrix will tell us how each class was misclassified. "
   ]
  },
  {
   "cell_type": "code",
   "execution_count": 108,
   "metadata": {},
   "outputs": [],
   "source": [
    "from sklearn.metrics import confusion_matrix"
   ]
  },
  {
   "cell_type": "code",
   "execution_count": 109,
   "metadata": {},
   "outputs": [],
   "source": [
    "cf = confusion_matrix(y_val, y_pred)"
   ]
  },
  {
   "cell_type": "code",
   "execution_count": 110,
   "metadata": {},
   "outputs": [],
   "source": [
    "import seaborn as sns\n",
    "import numpy as np"
   ]
  },
  {
   "cell_type": "code",
   "execution_count": 111,
   "metadata": {},
   "outputs": [
    {
     "data": {
      "text/plain": [
       "<matplotlib.axes._subplots.AxesSubplot at 0x11d4151d0>"
      ]
     },
     "execution_count": 111,
     "metadata": {},
     "output_type": "execute_result"
    },
    {
     "data": {
      "image/png": "[encoded data removed]",
      "text/plain": [
       "<Figure size 432x288 with 2 Axes>"
      ]
     },
     "metadata": {
      "needs_background": "light"
     },
     "output_type": "display_data"
    }
   ],
   "source": [
    "# sns.heatmap(cf, annot=True, fmt='g', cmap='Blues')\n",
    "sns.heatmap(cf/np.sum(cf), annot=True, fmt='.2%', cmap='Blues')"
   ]
  },
  {
   "cell_type": "markdown",
   "metadata": {},
   "source": [
    "### Classification report for KNN\n",
    "The classification report will give us detailed evaluation metrics."
   ]
  },
  {
   "cell_type": "code",
   "execution_count": 112,
   "metadata": {},
   "outputs": [],
   "source": [
    "from sklearn.metrics import classification_report"
   ]
  },
  {
   "cell_type": "code",
   "execution_count": 113,
   "metadata": {},
   "outputs": [],
   "source": [
    "cr = classification_report(y_val, y_pred)"
   ]
  },
  {
   "cell_type": "code",
   "execution_count": 114,
   "metadata": {},
   "outputs": [
    {
     "name": "stdout",
     "output_type": "stream",
     "text": [
      "              precision    recall  f1-score   support\n",
      "\n",
      "  background       0.94      1.00      0.97     10886\n",
      "        seal       0.98      0.56      0.71      1556\n",
      "\n",
      "    accuracy                           0.94     12442\n",
      "   macro avg       0.96      0.78      0.84     12442\n",
      "weighted avg       0.95      0.94      0.94     12442\n",
      "\n"
     ]
    }
   ],
   "source": [
    "print(cr)"
   ]
  },
  {
   "cell_type": "code",
   "execution_count": 179,
   "metadata": {},
   "outputs": [
    {
     "name": "stdout",
     "output_type": "stream",
     "text": [
      "Balanced accuracy:  0.7793789055729228\n"
     ]
    }
   ],
   "source": [
    "from sklearn.metrics import balanced_accuracy_score\n",
    "\n",
    "print('Balanced accuracy: ', balanced_accuracy_score(y_val, y_pred))"
   ]
  },
  {
   "cell_type": "markdown",
   "metadata": {},
   "source": [
    "### Train KNN with undersampled dataset\n",
    "\n",
    "Here, we train the KNN classifier using the undersampled dataset.\n"
   ]
  },
  {
   "cell_type": "code",
   "execution_count": 119,
   "metadata": {},
   "outputs": [
    {
     "name": "stdout",
     "output_type": "stream",
     "text": [
      "Grid:  {'cf__n_neighbors': [3], 'cf__leaf_size': [30], 'cf__p': [2]}\n",
      "Scorer:  ['balanced_accuracy', 'accuracy']\n",
      "K-nearest neighbors cross-val time elapsed:  87.33930802345276\n",
      "Best params:  {'cf__leaf_size': 30, 'cf__n_neighbors': 3, 'cf__p': 2}\n",
      "PCA number of components 489\n",
      "Best cross-val balanced accuracy score: 83.61%\n",
      "Best cross-val accuracy score: 83.61%\n"
     ]
    },
    {
     "data": {
      "text/html": [
       "<div>\n",
       "<style scoped>\n",
       "    .dataframe tbody tr th:only-of-type {\n",
       "        vertical-align: middle;\n",
       "    }\n",
       "\n",
       "    .dataframe tbody tr th {\n",
       "        vertical-align: top;\n",
       "    }\n",
       "\n",
       "    .dataframe thead th {\n",
       "        text-align: right;\n",
       "    }\n",
       "</style>\n",
       "<table border=\"1\" class=\"dataframe\">\n",
       "  <thead>\n",
       "    <tr style=\"text-align: right;\">\n",
       "      <th></th>\n",
       "      <th>mean_fit_time</th>\n",
       "      <th>std_fit_time</th>\n",
       "      <th>mean_score_time</th>\n",
       "      <th>std_score_time</th>\n",
       "      <th>param_cf__leaf_size</th>\n",
       "      <th>param_cf__n_neighbors</th>\n",
       "      <th>param_cf__p</th>\n",
       "      <th>params</th>\n",
       "      <th>split0_test_balanced_accuracy</th>\n",
       "      <th>split1_test_balanced_accuracy</th>\n",
       "      <th>...</th>\n",
       "      <th>std_test_balanced_accuracy</th>\n",
       "      <th>rank_test_balanced_accuracy</th>\n",
       "      <th>split0_test_accuracy</th>\n",
       "      <th>split1_test_accuracy</th>\n",
       "      <th>split2_test_accuracy</th>\n",
       "      <th>split3_test_accuracy</th>\n",
       "      <th>split4_test_accuracy</th>\n",
       "      <th>mean_test_accuracy</th>\n",
       "      <th>std_test_accuracy</th>\n",
       "      <th>rank_test_accuracy</th>\n",
       "    </tr>\n",
       "  </thead>\n",
       "  <tbody>\n",
       "    <tr>\n",
       "      <th>0</th>\n",
       "      <td>11.784095</td>\n",
       "      <td>3.74432</td>\n",
       "      <td>36.250511</td>\n",
       "      <td>5.880466</td>\n",
       "      <td>30</td>\n",
       "      <td>3</td>\n",
       "      <td>2</td>\n",
       "      <td>{'cf__leaf_size': 30, 'cf__n_neighbors': 3, 'c...</td>\n",
       "      <td>0.832433</td>\n",
       "      <td>0.835215</td>\n",
       "      <td>...</td>\n",
       "      <td>0.003615</td>\n",
       "      <td>1</td>\n",
       "      <td>0.83407</td>\n",
       "      <td>0.837284</td>\n",
       "      <td>0.841302</td>\n",
       "      <td>0.830454</td>\n",
       "      <td>0.837219</td>\n",
       "      <td>0.836066</td>\n",
       "      <td>0.003625</td>\n",
       "      <td>1</td>\n",
       "    </tr>\n",
       "  </tbody>\n",
       "</table>\n",
       "<p>1 rows × 24 columns</p>\n",
       "</div>"
      ],
      "text/plain": [
       "   mean_fit_time  std_fit_time  mean_score_time  std_score_time  \\\n",
       "0      11.784095       3.74432        36.250511        5.880466   \n",
       "\n",
       "  param_cf__leaf_size param_cf__n_neighbors param_cf__p  \\\n",
       "0                  30                     3           2   \n",
       "\n",
       "                                              params  \\\n",
       "0  {'cf__leaf_size': 30, 'cf__n_neighbors': 3, 'c...   \n",
       "\n",
       "   split0_test_balanced_accuracy  split1_test_balanced_accuracy  ...  \\\n",
       "0                       0.832433                       0.835215  ...   \n",
       "\n",
       "   std_test_balanced_accuracy  rank_test_balanced_accuracy  \\\n",
       "0                    0.003615                            1   \n",
       "\n",
       "   split0_test_accuracy  split1_test_accuracy  split2_test_accuracy  \\\n",
       "0               0.83407              0.837284              0.841302   \n",
       "\n",
       "   split3_test_accuracy  split4_test_accuracy  mean_test_accuracy  \\\n",
       "0              0.830454              0.837219            0.836066   \n",
       "\n",
       "   std_test_accuracy  rank_test_accuracy  \n",
       "0           0.003625                   1  \n",
       "\n",
       "[1 rows x 24 columns]"
      ]
     },
     "metadata": {},
     "output_type": "display_data"
    },
    {
     "name": "stdout",
     "output_type": "stream",
     "text": [
      "\n",
      "\n"
     ]
    }
   ],
   "source": [
    "knn_cf_under = kn_cross_validate_pca(X_train_under, y_train_under, scorer=scorer)"
   ]
  },
  {
   "cell_type": "markdown",
   "metadata": {},
   "source": [
    "### Making predictions on evaluation set with KNN trained on the undersampled dataset\n",
    "We use the KNN classifier trained using the undersampled dataset to make predictions on the validation set to allow  us to evaluate its performance."
   ]
  },
  {
   "cell_type": "code",
   "execution_count": 172,
   "metadata": {},
   "outputs": [],
   "source": [
    "y_pred_under = knn_cf_under.predict(X_val)"
   ]
  },
  {
   "cell_type": "markdown",
   "metadata": {},
   "source": [
    "### Confusion matrix for KNN trained on the  undersampled dataset\n",
    "The confusion matrix will tell us how each class was misclassified. "
   ]
  },
  {
   "cell_type": "code",
   "execution_count": 173,
   "metadata": {},
   "outputs": [],
   "source": [
    "cf_under = confusion_matrix(y_val, y_pred_under)"
   ]
  },
  {
   "cell_type": "code",
   "execution_count": 174,
   "metadata": {},
   "outputs": [
    {
     "data": {
      "text/plain": [
       "<matplotlib.axes._subplots.AxesSubplot at 0x12c0a0b10>"
      ]
     },
     "execution_count": 174,
     "metadata": {},
     "output_type": "execute_result"
    },
    {
     "data": {
      "image/png": "[encoded data removed]",
      "text/plain": [
       "<Figure size 432x288 with 2 Axes>"
      ]
     },
     "metadata": {
      "needs_background": "light"
     },
     "output_type": "display_data"
    }
   ],
   "source": [
    "# sns.heatmap(cf_under, annot=True, fmt='g', cmap='Blues')\n",
    "sns.heatmap(cf_under/np.sum(cf_under), annot=True, fmt='.2%', cmap='Blues')"
   ]
  },
  {
   "cell_type": "markdown",
   "metadata": {},
   "source": [
    "### Classification report for KNN trained on the undersampled dataset\n",
    "The classification report will give us detailed evaluation metrics."
   ]
  },
  {
   "cell_type": "code",
   "execution_count": 123,
   "metadata": {},
   "outputs": [],
   "source": [
    "cr_under = classification_report(y_val, y_pred_under)"
   ]
  },
  {
   "cell_type": "code",
   "execution_count": 124,
   "metadata": {},
   "outputs": [
    {
     "name": "stdout",
     "output_type": "stream",
     "text": [
      "              precision    recall  f1-score   support\n",
      "\n",
      "  background       0.96      0.99      0.97     10886\n",
      "        seal       0.92      0.68      0.78      1556\n",
      "\n",
      "    accuracy                           0.95     12442\n",
      "   macro avg       0.94      0.83      0.88     12442\n",
      "weighted avg       0.95      0.95      0.95     12442\n",
      "\n"
     ]
    }
   ],
   "source": [
    "print(cr_under)"
   ]
  },
  {
   "cell_type": "markdown",
   "metadata": {},
   "source": [
    "### Training Random Forest  Classifier\n",
    "\n",
    "Here we define our estimator as well as the grid search. The estimator is a pipeline in which the features are scaled, PCA is perfromed and a RandomForest classifier is trained. "
   ]
  },
  {
   "cell_type": "code",
   "execution_count": 125,
   "metadata": {},
   "outputs": [],
   "source": [
    "from sklearn.ensemble import RandomForestClassifier"
   ]
  },
  {
   "cell_type": "code",
   "execution_count": 126,
   "metadata": {},
   "outputs": [],
   "source": [
    "def rf_cross_validate_pca(X_train, y_train, scorer):\n",
    "    kf = KFold(n_splits=5, shuffle=True, random_state=42)\n",
    "    pipeline = Pipeline(\n",
    "        [('sc', StandardScaler()), ('pca', PCA(n_components=0.99, svd_solver='full')), ('cf', RandomForestClassifier())])\n",
    "\n",
    "    params = {\n",
    "        'cf__n_estimators': [400],\n",
    "        'cf__max_depth': [None],\n",
    "        'cf__min_samples_split': [2],\n",
    "    }\n",
    "    \n",
    "    print('Grid: ', params)\n",
    "    \n",
    "    print('Scorer: ', scorer)\n",
    "    \n",
    "    cf = GridSearchCV(pipeline, params, cv=kf, n_jobs=-1, scoring=scorer, refit=scorer[0])\n",
    "\n",
    "    start = time.time()\n",
    "    cf.fit(X_train, y_train)\n",
    "    end = time.time()\n",
    "    print('Random Forest cross-val time elapsed: ', end - start)\n",
    "\n",
    "    print('Best params: ', cf.best_params_)    \n",
    "\n",
    "    print('PCA number of components', cf.best_estimator_.named_steps['pca'].n_components_)\n",
    "\n",
    "    balanced_acc_score = cf.best_score_ * 100\n",
    "    \n",
    "    acc_score =  cf.cv_results_['mean_test_accuracy'][cf.best_index_] * 100\n",
    "\n",
    "    print(\"Best cross-val balanced accuracy score: \" + str(round(balanced_acc_score, 2)) + '%')\n",
    "    print(\"Best cross-val accuracy score: \" + str(round(acc_score, 2)) + '%')\n",
    "    \n",
    "    cv_results = pd.DataFrame(cf.cv_results_)\n",
    "    display(cv_results)\n",
    "\n",
    "    print('\\n')\n",
    "    return cf.best_estimator_"
   ]
  },
  {
   "cell_type": "code",
   "execution_count": 127,
   "metadata": {},
   "outputs": [
    {
     "name": "stdout",
     "output_type": "stream",
     "text": [
      "Grid:  {'cf__n_estimators': [400], 'cf__max_depth': [None], 'cf__min_samples_split': [2]}\n",
      "Scorer:  ['balanced_accuracy', 'accuracy']\n",
      "Random Forest cross-val time elapsed:  3904.9095747470856\n",
      "Best params:  {'cf__max_depth': None, 'cf__min_samples_split': 2, 'cf__n_estimators': 400}\n",
      "PCA number of components 473\n",
      "Best cross-val balanced accuracy score: 76.3%\n",
      "Best cross-val accuracy score: 94.0%\n"
     ]
    },
    {
     "data": {
      "text/html": [
       "<div>\n",
       "<style scoped>\n",
       "    .dataframe tbody tr th:only-of-type {\n",
       "        vertical-align: middle;\n",
       "    }\n",
       "\n",
       "    .dataframe tbody tr th {\n",
       "        vertical-align: top;\n",
       "    }\n",
       "\n",
       "    .dataframe thead th {\n",
       "        text-align: right;\n",
       "    }\n",
       "</style>\n",
       "<table border=\"1\" class=\"dataframe\">\n",
       "  <thead>\n",
       "    <tr style=\"text-align: right;\">\n",
       "      <th></th>\n",
       "      <th>mean_fit_time</th>\n",
       "      <th>std_fit_time</th>\n",
       "      <th>mean_score_time</th>\n",
       "      <th>std_score_time</th>\n",
       "      <th>param_cf__max_depth</th>\n",
       "      <th>param_cf__min_samples_split</th>\n",
       "      <th>param_cf__n_estimators</th>\n",
       "      <th>params</th>\n",
       "      <th>split0_test_balanced_accuracy</th>\n",
       "      <th>split1_test_balanced_accuracy</th>\n",
       "      <th>...</th>\n",
       "      <th>std_test_balanced_accuracy</th>\n",
       "      <th>rank_test_balanced_accuracy</th>\n",
       "      <th>split0_test_accuracy</th>\n",
       "      <th>split1_test_accuracy</th>\n",
       "      <th>split2_test_accuracy</th>\n",
       "      <th>split3_test_accuracy</th>\n",
       "      <th>split4_test_accuracy</th>\n",
       "      <th>mean_test_accuracy</th>\n",
       "      <th>std_test_accuracy</th>\n",
       "      <th>rank_test_accuracy</th>\n",
       "    </tr>\n",
       "  </thead>\n",
       "  <tbody>\n",
       "    <tr>\n",
       "      <th>0</th>\n",
       "      <td>1505.449964</td>\n",
       "      <td>263.802892</td>\n",
       "      <td>3.203102</td>\n",
       "      <td>0.348423</td>\n",
       "      <td>None</td>\n",
       "      <td>2</td>\n",
       "      <td>400</td>\n",
       "      <td>{'cf__max_depth': None, 'cf__min_samples_split...</td>\n",
       "      <td>0.756345</td>\n",
       "      <td>0.769914</td>\n",
       "      <td>...</td>\n",
       "      <td>0.008359</td>\n",
       "      <td>1</td>\n",
       "      <td>0.939522</td>\n",
       "      <td>0.943842</td>\n",
       "      <td>0.934599</td>\n",
       "      <td>0.942932</td>\n",
       "      <td>0.939114</td>\n",
       "      <td>0.940002</td>\n",
       "      <td>0.003272</td>\n",
       "      <td>1</td>\n",
       "    </tr>\n",
       "  </tbody>\n",
       "</table>\n",
       "<p>1 rows × 24 columns</p>\n",
       "</div>"
      ],
      "text/plain": [
       "   mean_fit_time  std_fit_time  mean_score_time  std_score_time  \\\n",
       "0    1505.449964    263.802892         3.203102        0.348423   \n",
       "\n",
       "  param_cf__max_depth param_cf__min_samples_split param_cf__n_estimators  \\\n",
       "0                None                           2                    400   \n",
       "\n",
       "                                              params  \\\n",
       "0  {'cf__max_depth': None, 'cf__min_samples_split...   \n",
       "\n",
       "   split0_test_balanced_accuracy  split1_test_balanced_accuracy  ...  \\\n",
       "0                       0.756345                       0.769914  ...   \n",
       "\n",
       "   std_test_balanced_accuracy  rank_test_balanced_accuracy  \\\n",
       "0                    0.008359                            1   \n",
       "\n",
       "   split0_test_accuracy  split1_test_accuracy  split2_test_accuracy  \\\n",
       "0              0.939522              0.943842              0.934599   \n",
       "\n",
       "   split3_test_accuracy  split4_test_accuracy  mean_test_accuracy  \\\n",
       "0              0.942932              0.939114            0.940002   \n",
       "\n",
       "   std_test_accuracy  rank_test_accuracy  \n",
       "0           0.003272                   1  \n",
       "\n",
       "[1 rows x 24 columns]"
      ]
     },
     "metadata": {},
     "output_type": "display_data"
    },
    {
     "name": "stdout",
     "output_type": "stream",
     "text": [
      "\n",
      "\n"
     ]
    }
   ],
   "source": [
    "rf_cf = rf_cross_validate_pca(X_train, y_train, scorer=scorer)"
   ]
  },
  {
   "cell_type": "markdown",
   "metadata": {},
   "source": [
    "### Making predictions on the validation set with RF\n",
    "We use the RF classifier to make predictions on the validation set to allow  us to evaluate its performance.### Making predictions on the validation set"
   ]
  },
  {
   "cell_type": "code",
   "execution_count": 180,
   "metadata": {},
   "outputs": [],
   "source": [
    "y_pred = rf_cf.predict(X_val)"
   ]
  },
  {
   "cell_type": "markdown",
   "metadata": {},
   "source": [
    "### Confusion matrix for RF\n",
    "The confusion matrix will tell us how each class was misclassified."
   ]
  },
  {
   "cell_type": "code",
   "execution_count": 129,
   "metadata": {},
   "outputs": [],
   "source": [
    "from sklearn.metrics import confusion_matrix"
   ]
  },
  {
   "cell_type": "code",
   "execution_count": 130,
   "metadata": {},
   "outputs": [],
   "source": [
    "cf = confusion_matrix(y_val, y_pred)"
   ]
  },
  {
   "cell_type": "code",
   "execution_count": 131,
   "metadata": {},
   "outputs": [],
   "source": [
    "import seaborn as sns\n",
    "import numpy as np"
   ]
  },
  {
   "cell_type": "code",
   "execution_count": 132,
   "metadata": {},
   "outputs": [
    {
     "data": {
      "text/plain": [
       "<matplotlib.axes._subplots.AxesSubplot at 0x139126750>"
      ]
     },
     "execution_count": 132,
     "metadata": {},
     "output_type": "execute_result"
    },
    {
     "data": {
      "image/png": "[encoded data removed]",
      "text/plain": [
       "<Figure size 432x288 with 2 Axes>"
      ]
     },
     "metadata": {
      "needs_background": "light"
     },
     "output_type": "display_data"
    }
   ],
   "source": [
    "# sns.heatmap(cf, annot=True, fmt='g', cmap='Blues')\n",
    "sns.heatmap(cf/np.sum(cf), annot=True, fmt='.2%', cmap='Blues')"
   ]
  },
  {
   "cell_type": "markdown",
   "metadata": {},
   "source": [
    "### Classification report for RF\n",
    "The classification report will give us detailed evaluation metrics."
   ]
  },
  {
   "cell_type": "code",
   "execution_count": 133,
   "metadata": {},
   "outputs": [],
   "source": [
    "from sklearn.metrics import classification_report"
   ]
  },
  {
   "cell_type": "code",
   "execution_count": 134,
   "metadata": {},
   "outputs": [],
   "source": [
    "cr = classification_report(y_val, y_pred)"
   ]
  },
  {
   "cell_type": "code",
   "execution_count": 135,
   "metadata": {},
   "outputs": [
    {
     "name": "stdout",
     "output_type": "stream",
     "text": [
      "              precision    recall  f1-score   support\n",
      "\n",
      "  background       0.94      1.00      0.97     10886\n",
      "        seal       0.98      0.54      0.70      1556\n",
      "\n",
      "    accuracy                           0.94     12442\n",
      "   macro avg       0.96      0.77      0.83     12442\n",
      "weighted avg       0.94      0.94      0.93     12442\n",
      "\n"
     ]
    }
   ],
   "source": [
    "print(cr)"
   ]
  },
  {
   "cell_type": "code",
   "execution_count": 181,
   "metadata": {},
   "outputs": [
    {
     "name": "stdout",
     "output_type": "stream",
     "text": [
      "Balanced accuracy:  0.7682699105995436\n"
     ]
    }
   ],
   "source": [
    "from sklearn.metrics import balanced_accuracy_score\n",
    "\n",
    "print('Balanced accuracy: ', balanced_accuracy_score(y_val, y_pred))"
   ]
  },
  {
   "cell_type": "markdown",
   "metadata": {},
   "source": [
    "### Train RF with undersampled dataset\n",
    "Here, we train the RandomForest classifier using the undersampled dataset."
   ]
  },
  {
   "cell_type": "code",
   "execution_count": 140,
   "metadata": {},
   "outputs": [
    {
     "name": "stdout",
     "output_type": "stream",
     "text": [
      "Grid:  {'cf__n_estimators': [400], 'cf__max_depth': [None], 'cf__min_samples_split': [2]}\n",
      "Scorer:  ['balanced_accuracy', 'accuracy']\n",
      "Random Forest cross-val time elapsed:  473.325275182724\n",
      "Best params:  {'cf__max_depth': None, 'cf__min_samples_split': 2, 'cf__n_estimators': 400}\n",
      "PCA number of components 489\n",
      "Best cross-val balanced accuracy score: 89.31%\n",
      "Best cross-val accuracy score: 89.3%\n"
     ]
    },
    {
     "data": {
      "text/html": [
       "<div>\n",
       "<style scoped>\n",
       "    .dataframe tbody tr th:only-of-type {\n",
       "        vertical-align: middle;\n",
       "    }\n",
       "\n",
       "    .dataframe tbody tr th {\n",
       "        vertical-align: top;\n",
       "    }\n",
       "\n",
       "    .dataframe thead th {\n",
       "        text-align: right;\n",
       "    }\n",
       "</style>\n",
       "<table border=\"1\" class=\"dataframe\">\n",
       "  <thead>\n",
       "    <tr style=\"text-align: right;\">\n",
       "      <th></th>\n",
       "      <th>mean_fit_time</th>\n",
       "      <th>std_fit_time</th>\n",
       "      <th>mean_score_time</th>\n",
       "      <th>std_score_time</th>\n",
       "      <th>param_cf__max_depth</th>\n",
       "      <th>param_cf__min_samples_split</th>\n",
       "      <th>param_cf__n_estimators</th>\n",
       "      <th>params</th>\n",
       "      <th>split0_test_balanced_accuracy</th>\n",
       "      <th>split1_test_balanced_accuracy</th>\n",
       "      <th>...</th>\n",
       "      <th>std_test_balanced_accuracy</th>\n",
       "      <th>rank_test_balanced_accuracy</th>\n",
       "      <th>split0_test_accuracy</th>\n",
       "      <th>split1_test_accuracy</th>\n",
       "      <th>split2_test_accuracy</th>\n",
       "      <th>split3_test_accuracy</th>\n",
       "      <th>split4_test_accuracy</th>\n",
       "      <th>mean_test_accuracy</th>\n",
       "      <th>std_test_accuracy</th>\n",
       "      <th>rank_test_accuracy</th>\n",
       "    </tr>\n",
       "  </thead>\n",
       "  <tbody>\n",
       "    <tr>\n",
       "      <th>0</th>\n",
       "      <td>181.243225</td>\n",
       "      <td>30.512432</td>\n",
       "      <td>0.641063</td>\n",
       "      <td>0.17155</td>\n",
       "      <td>None</td>\n",
       "      <td>2</td>\n",
       "      <td>400</td>\n",
       "      <td>{'cf__max_depth': None, 'cf__min_samples_split...</td>\n",
       "      <td>0.887202</td>\n",
       "      <td>0.890075</td>\n",
       "      <td>...</td>\n",
       "      <td>0.007565</td>\n",
       "      <td>1</td>\n",
       "      <td>0.886701</td>\n",
       "      <td>0.889514</td>\n",
       "      <td>0.885898</td>\n",
       "      <td>0.907593</td>\n",
       "      <td>0.895498</td>\n",
       "      <td>0.893041</td>\n",
       "      <td>0.008018</td>\n",
       "      <td>1</td>\n",
       "    </tr>\n",
       "  </tbody>\n",
       "</table>\n",
       "<p>1 rows × 24 columns</p>\n",
       "</div>"
      ],
      "text/plain": [
       "   mean_fit_time  std_fit_time  mean_score_time  std_score_time  \\\n",
       "0     181.243225     30.512432         0.641063         0.17155   \n",
       "\n",
       "  param_cf__max_depth param_cf__min_samples_split param_cf__n_estimators  \\\n",
       "0                None                           2                    400   \n",
       "\n",
       "                                              params  \\\n",
       "0  {'cf__max_depth': None, 'cf__min_samples_split...   \n",
       "\n",
       "   split0_test_balanced_accuracy  split1_test_balanced_accuracy  ...  \\\n",
       "0                       0.887202                       0.890075  ...   \n",
       "\n",
       "   std_test_balanced_accuracy  rank_test_balanced_accuracy  \\\n",
       "0                    0.007565                            1   \n",
       "\n",
       "   split0_test_accuracy  split1_test_accuracy  split2_test_accuracy  \\\n",
       "0              0.886701              0.889514              0.885898   \n",
       "\n",
       "   split3_test_accuracy  split4_test_accuracy  mean_test_accuracy  \\\n",
       "0              0.907593              0.895498            0.893041   \n",
       "\n",
       "   std_test_accuracy  rank_test_accuracy  \n",
       "0           0.008018                   1  \n",
       "\n",
       "[1 rows x 24 columns]"
      ]
     },
     "metadata": {},
     "output_type": "display_data"
    },
    {
     "name": "stdout",
     "output_type": "stream",
     "text": [
      "\n",
      "\n"
     ]
    }
   ],
   "source": [
    "rf_cf_under = rf_cross_validate_pca(X_train_under, y_train_under, scorer=scorer)"
   ]
  },
  {
   "cell_type": "markdown",
   "metadata": {},
   "source": [
    "### Making prediction on evaluation set with RF trained on undersampled dataset\n",
    "We use the RF classifier trained using the undersampled dataset to make predictions on the validation set to allow  us to evaluate its performance."
   ]
  },
  {
   "cell_type": "code",
   "execution_count": 169,
   "metadata": {},
   "outputs": [],
   "source": [
    "y_pred_under = rf_cf_under.predict(X_val)"
   ]
  },
  {
   "cell_type": "markdown",
   "metadata": {},
   "source": [
    "### Confusion matrix for RF trained on the undersampled dataset\n",
    "The confusion matrix will tell us how each class was misclassified. "
   ]
  },
  {
   "cell_type": "code",
   "execution_count": 170,
   "metadata": {},
   "outputs": [],
   "source": [
    "cf_under = confusion_matrix(y_val, y_pred_under)"
   ]
  },
  {
   "cell_type": "code",
   "execution_count": 171,
   "metadata": {},
   "outputs": [
    {
     "data": {
      "text/plain": [
       "<matplotlib.axes._subplots.AxesSubplot at 0x12bfbb190>"
      ]
     },
     "execution_count": 171,
     "metadata": {},
     "output_type": "execute_result"
    },
    {
     "data": {
      "image/png": "[encoded data removed]",
      "text/plain": [
       "<Figure size 432x288 with 2 Axes>"
      ]
     },
     "metadata": {
      "needs_background": "light"
     },
     "output_type": "display_data"
    }
   ],
   "source": [
    "# sns.heatmap(cf_under, annot=True, fmt='g', cmap='Blues')\n",
    "sns.heatmap(cf_under/np.sum(cf_under), annot=True, fmt='.2%', cmap='Blues')"
   ]
  },
  {
   "cell_type": "markdown",
   "metadata": {},
   "source": [
    "### Classification report for RF trained on the undersampled dataset\n",
    "The classification report will give us detailed evaluation metrics."
   ]
  },
  {
   "cell_type": "code",
   "execution_count": 144,
   "metadata": {},
   "outputs": [],
   "source": [
    "cr_under = classification_report(y_val, y_pred_under)"
   ]
  },
  {
   "cell_type": "code",
   "execution_count": 145,
   "metadata": {},
   "outputs": [
    {
     "name": "stdout",
     "output_type": "stream",
     "text": [
      "              precision    recall  f1-score   support\n",
      "\n",
      "  background       0.99      0.86      0.92     10886\n",
      "        seal       0.48      0.93      0.63      1556\n",
      "\n",
      "    accuracy                           0.86     12442\n",
      "   macro avg       0.73      0.89      0.77     12442\n",
      "weighted avg       0.92      0.86      0.88     12442\n",
      "\n"
     ]
    }
   ],
   "source": [
    "print(cr_under)"
   ]
  },
  {
   "cell_type": "markdown",
   "metadata": {},
   "source": [
    "### Training SVM Classifier\n",
    "\n",
    "Here we define our estimator as well as the grid search. The estimator is a pipeline in which the features are scaled, PCA is perfromed and an SVM classifier is trained. "
   ]
  },
  {
   "cell_type": "code",
   "execution_count": 146,
   "metadata": {},
   "outputs": [],
   "source": [
    "from sklearn.svm import LinearSVC"
   ]
  },
  {
   "cell_type": "code",
   "execution_count": 147,
   "metadata": {},
   "outputs": [],
   "source": [
    "def svc_cross_validate_pca(X_train, y_train, scorer):\n",
    "    kf = KFold(n_splits=5, shuffle=True, random_state=42)\n",
    "    pipeline = Pipeline(\n",
    "        [('sc', StandardScaler()), ('pca', PCA(n_components=0.99, svd_solver='full')), ('cf', LinearSVC())])\n",
    "\n",
    "    params = {\n",
    "        'cf__C': [1.0],\n",
    "        'cf__loss': ['squared_hinge'],\n",
    "        'cf__dual': [False],\n",
    "    }\n",
    "    \n",
    "    print('Grid: ', params)\n",
    "    \n",
    "    print('Scorer: ', scorer)\n",
    "    \n",
    "    cf = GridSearchCV(pipeline, params, cv=kf, n_jobs=-1, scoring=scorer, refit=scorer[0])\n",
    "\n",
    "    start = time.time()\n",
    "    cf.fit(X_train, y_train)\n",
    "    end = time.time()\n",
    "    print('SVC cross-val time elapsed: ', end - start)\n",
    "\n",
    "    print('Best params: ', cf.best_params_)    \n",
    "\n",
    "    print('PCA number of components', cf.best_estimator_.named_steps['pca'].n_components_)\n",
    "\n",
    "    balanced_acc_score = cf.best_score_ * 100\n",
    "    \n",
    "    acc_score =  cf.cv_results_['mean_test_accuracy'][cf.best_index_] * 100\n",
    "\n",
    "    print(\"Best cross-val balanced accuracy score: \" + str(round(balanced_acc_score, 2)) + '%')\n",
    "    print(\"Best cross-val accuracy score: \" + str(round(acc_score, 2)) + '%')\n",
    "    \n",
    "    cv_results = pd.DataFrame(cf.cv_results_)\n",
    "    display(cv_results)\n",
    "\n",
    "    print('\\n')\n",
    "    return cf.best_estimator_"
   ]
  },
  {
   "cell_type": "code",
   "execution_count": 148,
   "metadata": {},
   "outputs": [
    {
     "name": "stdout",
     "output_type": "stream",
     "text": [
      "Grid:  {'cf__C': [1.0], 'cf__loss': ['squared_hinge'], 'cf__dual': [False]}\n",
      "Scorer:  ['balanced_accuracy', 'accuracy']\n",
      "SVC cross-val time elapsed:  160.33387231826782\n",
      "Best params:  {'cf__C': 1.0, 'cf__dual': False, 'cf__loss': 'squared_hinge'}\n",
      "PCA number of components 473\n",
      "Best cross-val balanced accuracy score: 90.75%\n",
      "Best cross-val accuracy score: 96.94%\n"
     ]
    },
    {
     "data": {
      "text/html": [
       "<div>\n",
       "<style scoped>\n",
       "    .dataframe tbody tr th:only-of-type {\n",
       "        vertical-align: middle;\n",
       "    }\n",
       "\n",
       "    .dataframe tbody tr th {\n",
       "        vertical-align: top;\n",
       "    }\n",
       "\n",
       "    .dataframe thead th {\n",
       "        text-align: right;\n",
       "    }\n",
       "</style>\n",
       "<table border=\"1\" class=\"dataframe\">\n",
       "  <thead>\n",
       "    <tr style=\"text-align: right;\">\n",
       "      <th></th>\n",
       "      <th>mean_fit_time</th>\n",
       "      <th>std_fit_time</th>\n",
       "      <th>mean_score_time</th>\n",
       "      <th>std_score_time</th>\n",
       "      <th>param_cf__C</th>\n",
       "      <th>param_cf__dual</th>\n",
       "      <th>param_cf__loss</th>\n",
       "      <th>params</th>\n",
       "      <th>split0_test_balanced_accuracy</th>\n",
       "      <th>split1_test_balanced_accuracy</th>\n",
       "      <th>...</th>\n",
       "      <th>std_test_balanced_accuracy</th>\n",
       "      <th>rank_test_balanced_accuracy</th>\n",
       "      <th>split0_test_accuracy</th>\n",
       "      <th>split1_test_accuracy</th>\n",
       "      <th>split2_test_accuracy</th>\n",
       "      <th>split3_test_accuracy</th>\n",
       "      <th>split4_test_accuracy</th>\n",
       "      <th>mean_test_accuracy</th>\n",
       "      <th>std_test_accuracy</th>\n",
       "      <th>rank_test_accuracy</th>\n",
       "    </tr>\n",
       "  </thead>\n",
       "  <tbody>\n",
       "    <tr>\n",
       "      <th>0</th>\n",
       "      <td>85.831057</td>\n",
       "      <td>27.646073</td>\n",
       "      <td>1.118204</td>\n",
       "      <td>0.385722</td>\n",
       "      <td>1</td>\n",
       "      <td>False</td>\n",
       "      <td>squared_hinge</td>\n",
       "      <td>{'cf__C': 1.0, 'cf__dual': False, 'cf__loss': ...</td>\n",
       "      <td>0.897307</td>\n",
       "      <td>0.91467</td>\n",
       "      <td>...</td>\n",
       "      <td>0.006415</td>\n",
       "      <td>1</td>\n",
       "      <td>0.967249</td>\n",
       "      <td>0.971167</td>\n",
       "      <td>0.968656</td>\n",
       "      <td>0.970863</td>\n",
       "      <td>0.969256</td>\n",
       "      <td>0.969438</td>\n",
       "      <td>0.001446</td>\n",
       "      <td>1</td>\n",
       "    </tr>\n",
       "  </tbody>\n",
       "</table>\n",
       "<p>1 rows × 24 columns</p>\n",
       "</div>"
      ],
      "text/plain": [
       "   mean_fit_time  std_fit_time  mean_score_time  std_score_time param_cf__C  \\\n",
       "0      85.831057     27.646073         1.118204        0.385722           1   \n",
       "\n",
       "  param_cf__dual param_cf__loss  \\\n",
       "0          False  squared_hinge   \n",
       "\n",
       "                                              params  \\\n",
       "0  {'cf__C': 1.0, 'cf__dual': False, 'cf__loss': ...   \n",
       "\n",
       "   split0_test_balanced_accuracy  split1_test_balanced_accuracy  ...  \\\n",
       "0                       0.897307                        0.91467  ...   \n",
       "\n",
       "   std_test_balanced_accuracy  rank_test_balanced_accuracy  \\\n",
       "0                    0.006415                            1   \n",
       "\n",
       "   split0_test_accuracy  split1_test_accuracy  split2_test_accuracy  \\\n",
       "0              0.967249              0.971167              0.968656   \n",
       "\n",
       "   split3_test_accuracy  split4_test_accuracy  mean_test_accuracy  \\\n",
       "0              0.970863              0.969256            0.969438   \n",
       "\n",
       "   std_test_accuracy  rank_test_accuracy  \n",
       "0           0.001446                   1  \n",
       "\n",
       "[1 rows x 24 columns]"
      ]
     },
     "metadata": {},
     "output_type": "display_data"
    },
    {
     "name": "stdout",
     "output_type": "stream",
     "text": [
      "\n",
      "\n"
     ]
    }
   ],
   "source": [
    "svc_cf = svc_cross_validate_pca(X_train, y_train, scorer=scorer)"
   ]
  },
  {
   "cell_type": "markdown",
   "metadata": {},
   "source": [
    "### Making predictions on the validation set with SVC\n",
    "We use the SVC classifier to make predictions on the validation set to allow  us to evaluate its performance."
   ]
  },
  {
   "cell_type": "code",
   "execution_count": 182,
   "metadata": {},
   "outputs": [],
   "source": [
    "y_pred = svc_cf.predict(X_val)"
   ]
  },
  {
   "cell_type": "markdown",
   "metadata": {},
   "source": [
    "### Confusion matrix for SVC\n",
    "The confusion matrix will tell us how each class was misclassified."
   ]
  },
  {
   "cell_type": "code",
   "execution_count": 150,
   "metadata": {},
   "outputs": [],
   "source": [
    "from sklearn.metrics import confusion_matrix"
   ]
  },
  {
   "cell_type": "code",
   "execution_count": 151,
   "metadata": {},
   "outputs": [],
   "source": [
    "cf = confusion_matrix(y_val, y_pred)"
   ]
  },
  {
   "cell_type": "code",
   "execution_count": 152,
   "metadata": {},
   "outputs": [],
   "source": [
    "import seaborn as sns\n",
    "import numpy as np"
   ]
  },
  {
   "cell_type": "code",
   "execution_count": 153,
   "metadata": {},
   "outputs": [
    {
     "data": {
      "text/plain": [
       "<matplotlib.axes._subplots.AxesSubplot at 0x13394f150>"
      ]
     },
     "execution_count": 153,
     "metadata": {},
     "output_type": "execute_result"
    },
    {
     "data": {
      "image/png": "[encoded data removed]",
      "text/plain": [
       "<Figure size 432x288 with 2 Axes>"
      ]
     },
     "metadata": {
      "needs_background": "light"
     },
     "output_type": "display_data"
    }
   ],
   "source": [
    "sns.heatmap(cf/np.sum(cf), annot=True, fmt='.2%', cmap='Blues')"
   ]
  },
  {
   "cell_type": "code",
   "execution_count": 154,
   "metadata": {},
   "outputs": [],
   "source": [
    "from sklearn.metrics import classification_report"
   ]
  },
  {
   "cell_type": "code",
   "execution_count": 155,
   "metadata": {},
   "outputs": [],
   "source": [
    "cr = classification_report(y_val, y_pred)"
   ]
  },
  {
   "cell_type": "code",
   "execution_count": 156,
   "metadata": {},
   "outputs": [
    {
     "name": "stdout",
     "output_type": "stream",
     "text": [
      "              precision    recall  f1-score   support\n",
      "\n",
      "  background       0.97      0.99      0.98     10886\n",
      "        seal       0.92      0.81      0.86      1556\n",
      "\n",
      "    accuracy                           0.97     12442\n",
      "   macro avg       0.95      0.90      0.92     12442\n",
      "weighted avg       0.97      0.97      0.97     12442\n",
      "\n"
     ]
    }
   ],
   "source": [
    "print(cr)"
   ]
  },
  {
   "cell_type": "code",
   "execution_count": 183,
   "metadata": {},
   "outputs": [
    {
     "name": "stdout",
     "output_type": "stream",
     "text": [
      "Balanced accuracy:  0.8984549268960345\n"
     ]
    }
   ],
   "source": [
    "from sklearn.metrics import balanced_accuracy_score\n",
    "\n",
    "print('Balanced accuracy: ', balanced_accuracy_score(y_val, y_pred))"
   ]
  },
  {
   "cell_type": "markdown",
   "metadata": {},
   "source": [
    "### Train SVC with undersampled dataset\n",
    "Here, we train the SVC classifier using the undersampled dataset."
   ]
  },
  {
   "cell_type": "code",
   "execution_count": 162,
   "metadata": {},
   "outputs": [
    {
     "name": "stdout",
     "output_type": "stream",
     "text": [
      "Grid:  {'cf__C': [1.0], 'cf__loss': ['squared_hinge'], 'cf__dual': [False]}\n",
      "Scorer:  ['balanced_accuracy', 'accuracy']\n",
      "SVC cross-val time elapsed:  27.496639013290405\n",
      "Best params:  {'cf__C': 1.0, 'cf__dual': False, 'cf__loss': 'squared_hinge'}\n",
      "PCA number of components 489\n",
      "Best cross-val balanced accuracy score: 92.72%\n",
      "Best cross-val accuracy score: 92.71%\n"
     ]
    },
    {
     "data": {
      "text/html": [
       "<div>\n",
       "<style scoped>\n",
       "    .dataframe tbody tr th:only-of-type {\n",
       "        vertical-align: middle;\n",
       "    }\n",
       "\n",
       "    .dataframe tbody tr th {\n",
       "        vertical-align: top;\n",
       "    }\n",
       "\n",
       "    .dataframe thead th {\n",
       "        text-align: right;\n",
       "    }\n",
       "</style>\n",
       "<table border=\"1\" class=\"dataframe\">\n",
       "  <thead>\n",
       "    <tr style=\"text-align: right;\">\n",
       "      <th></th>\n",
       "      <th>mean_fit_time</th>\n",
       "      <th>std_fit_time</th>\n",
       "      <th>mean_score_time</th>\n",
       "      <th>std_score_time</th>\n",
       "      <th>param_cf__C</th>\n",
       "      <th>param_cf__dual</th>\n",
       "      <th>param_cf__loss</th>\n",
       "      <th>params</th>\n",
       "      <th>split0_test_balanced_accuracy</th>\n",
       "      <th>split1_test_balanced_accuracy</th>\n",
       "      <th>...</th>\n",
       "      <th>std_test_balanced_accuracy</th>\n",
       "      <th>rank_test_balanced_accuracy</th>\n",
       "      <th>split0_test_accuracy</th>\n",
       "      <th>split1_test_accuracy</th>\n",
       "      <th>split2_test_accuracy</th>\n",
       "      <th>split3_test_accuracy</th>\n",
       "      <th>split4_test_accuracy</th>\n",
       "      <th>mean_test_accuracy</th>\n",
       "      <th>std_test_accuracy</th>\n",
       "      <th>rank_test_accuracy</th>\n",
       "    </tr>\n",
       "  </thead>\n",
       "  <tbody>\n",
       "    <tr>\n",
       "      <th>0</th>\n",
       "      <td>12.55802</td>\n",
       "      <td>3.382283</td>\n",
       "      <td>0.178861</td>\n",
       "      <td>0.037831</td>\n",
       "      <td>1</td>\n",
       "      <td>False</td>\n",
       "      <td>squared_hinge</td>\n",
       "      <td>{'cf__C': 1.0, 'cf__dual': False, 'cf__loss': ...</td>\n",
       "      <td>0.923559</td>\n",
       "      <td>0.929963</td>\n",
       "      <td>...</td>\n",
       "      <td>0.004076</td>\n",
       "      <td>1</td>\n",
       "      <td>0.923664</td>\n",
       "      <td>0.930092</td>\n",
       "      <td>0.932905</td>\n",
       "      <td>0.927682</td>\n",
       "      <td>0.921222</td>\n",
       "      <td>0.927113</td>\n",
       "      <td>0.004227</td>\n",
       "      <td>1</td>\n",
       "    </tr>\n",
       "  </tbody>\n",
       "</table>\n",
       "<p>1 rows × 24 columns</p>\n",
       "</div>"
      ],
      "text/plain": [
       "   mean_fit_time  std_fit_time  mean_score_time  std_score_time param_cf__C  \\\n",
       "0       12.55802      3.382283         0.178861        0.037831           1   \n",
       "\n",
       "  param_cf__dual param_cf__loss  \\\n",
       "0          False  squared_hinge   \n",
       "\n",
       "                                              params  \\\n",
       "0  {'cf__C': 1.0, 'cf__dual': False, 'cf__loss': ...   \n",
       "\n",
       "   split0_test_balanced_accuracy  split1_test_balanced_accuracy  ...  \\\n",
       "0                       0.923559                       0.929963  ...   \n",
       "\n",
       "   std_test_balanced_accuracy  rank_test_balanced_accuracy  \\\n",
       "0                    0.004076                            1   \n",
       "\n",
       "   split0_test_accuracy  split1_test_accuracy  split2_test_accuracy  \\\n",
       "0              0.923664              0.930092              0.932905   \n",
       "\n",
       "   split3_test_accuracy  split4_test_accuracy  mean_test_accuracy  \\\n",
       "0              0.927682              0.921222            0.927113   \n",
       "\n",
       "   std_test_accuracy  rank_test_accuracy  \n",
       "0           0.004227                   1  \n",
       "\n",
       "[1 rows x 24 columns]"
      ]
     },
     "metadata": {},
     "output_type": "display_data"
    },
    {
     "name": "stdout",
     "output_type": "stream",
     "text": [
      "\n",
      "\n"
     ]
    }
   ],
   "source": [
    "svc_cf_under = svc_cross_validate_pca(X_train_under, y_train_under, scorer=scorer)"
   ]
  },
  {
   "cell_type": "markdown",
   "metadata": {},
   "source": [
    "### Making prediction on evaluation set with SVC under\n",
    "We use the SVC classifier trained using the undersampled dataset to make predictions on the validation set to allow  us to evaluate its performance."
   ]
  },
  {
   "cell_type": "code",
   "execution_count": 163,
   "metadata": {},
   "outputs": [],
   "source": [
    "y_pred_under = svc_cf_under.predict(X_val)"
   ]
  },
  {
   "cell_type": "markdown",
   "metadata": {},
   "source": [
    "### Confusion matrix for SVC trained on the undersampled dataset\n",
    "The confusion matrix will tell us how each class was misclassified. "
   ]
  },
  {
   "cell_type": "code",
   "execution_count": 164,
   "metadata": {},
   "outputs": [],
   "source": [
    "cf_under = confusion_matrix(y_val, y_pred_under)"
   ]
  },
  {
   "cell_type": "code",
   "execution_count": 165,
   "metadata": {},
   "outputs": [
    {
     "data": {
      "text/plain": [
       "<matplotlib.axes._subplots.AxesSubplot at 0x12bdaa150>"
      ]
     },
     "execution_count": 165,
     "metadata": {},
     "output_type": "execute_result"
    },
    {
     "data": {
      "image/png": "[encoded data removed]",
      "text/plain": [
       "<Figure size 432x288 with 2 Axes>"
      ]
     },
     "metadata": {
      "needs_background": "light"
     },
     "output_type": "display_data"
    }
   ],
   "source": [
    "# sns.heatmap(cf_under, annot=True, fmt='g', cmap='Blues')\n",
    "sns.heatmap(cf_under/np.sum(cf_under), annot=True, fmt='.2%', cmap='Blues')"
   ]
  },
  {
   "cell_type": "markdown",
   "metadata": {},
   "source": [
    "### Classification report for SVC trained on the undersampled dataset\n",
    "The classification report will give us detailed evaluation metrics."
   ]
  },
  {
   "cell_type": "code",
   "execution_count": 166,
   "metadata": {},
   "outputs": [],
   "source": [
    "from sklearn.metrics import classification_report"
   ]
  },
  {
   "cell_type": "code",
   "execution_count": 167,
   "metadata": {},
   "outputs": [],
   "source": [
    "cr_under = classification_report(y_val, y_pred_under)"
   ]
  },
  {
   "cell_type": "code",
   "execution_count": 168,
   "metadata": {},
   "outputs": [
    {
     "name": "stdout",
     "output_type": "stream",
     "text": [
      "              precision    recall  f1-score   support\n",
      "\n",
      "  background       0.99      0.94      0.96     10886\n",
      "        seal       0.68      0.92      0.78      1556\n",
      "\n",
      "    accuracy                           0.94     12442\n",
      "   macro avg       0.83      0.93      0.87     12442\n",
      "weighted avg       0.95      0.94      0.94     12442\n",
      "\n"
     ]
    }
   ],
   "source": [
    "print(cr_under)"
   ]
  },
  {
   "cell_type": "markdown",
   "metadata": {},
   "source": [
    "## Produce the Y_test.csv file\n",
    "\n",
    "This is the file that will be used to evaluate the final performance of the classifier. After analysing the results we decided that we will be using the SVM classifier that was trained on the original dataset. "
   ]
  },
  {
   "cell_type": "code",
   "execution_count": 187,
   "metadata": {},
   "outputs": [
    {
     "name": "stdout",
     "output_type": "stream",
     "text": [
      "<class 'pandas.core.frame.DataFrame'>\n"
     ]
    }
   ],
   "source": [
    "X_test = data_dict['X_test']"
   ]
  },
  {
   "cell_type": "code",
   "execution_count": 188,
   "metadata": {},
   "outputs": [],
   "source": [
    "y_test = svc_cf.predict(X_test)"
   ]
  },
  {
   "cell_type": "code",
   "execution_count": 193,
   "metadata": {},
   "outputs": [],
   "source": [
    "output_path = pathlib.Path().joinpath(BINARY_DIR, 'Y_test.csv')\n",
    "np.savetxt(output_path, y_test, fmt=\"%s\")"
   ]
  }
 ],
 "metadata": {
  "kernelspec": {
   "display_name": "Python 3",
   "language": "python",
   "name": "python3"
  },
  "language_info": {
   "codemirror_mode": {
    "name": "ipython",
    "version": 3
   },
   "file_extension": ".py",
   "mimetype": "text/x-python",
   "name": "python",
   "nbconvert_exporter": "python",
   "pygments_lexer": "ipython3",
   "version": "3.7.3"
  }
 },
 "nbformat": 4,
 "nbformat_minor": 4
}
